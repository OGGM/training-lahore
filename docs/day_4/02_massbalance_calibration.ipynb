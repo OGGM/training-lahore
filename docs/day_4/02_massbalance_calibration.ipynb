{
 "cells": [
  {
   "cell_type": "markdown",
   "metadata": {},
   "source": [
    "# Calibrating the mass balance model"
   ]
  },
  {
   "cell_type": "markdown",
   "metadata": {},
   "source": [
    "The default mass-balance (MB) model of OGGM is a very standard [temperature index melt model](https://www.sciencedirect.com/science/article/pii/S0022169403002579).\n",
    "\n",
    "In versions before 1.6, OGGM had a complex calibration procedure which originated from the times where we had only observations from a few hundred glaciers. We used them to calibrate the model and then a so-called *tstar* (famous in only very niche circles) which was interpolated to glaciers without observations (see the [original publication](https://www.the-cryosphere.net/6/1295/2012/tc-6-1295-2012.html)). This method was very powerful but, as new observational datasets emerged, we can now calibrate on a glacier-per-glacier basis. With the new era of geodetic observations, OGGM uses per default the average geodetic observations from Jan 2000--Jan 2020 of [Hugonnet al. 2021](https://www.nature.com/articles/s41586-021-03436-z), that are now available for almost every glacier world-wide. \n",
    "\n",
    "Pre-processed directories from OGGM (from the Bremen server) have been calibrated for you, based on a specific climate dataset (W5E5) and our own dedicated calibration strategy. But, what if you want to use another climate dataset? Or another reference dataset?\n",
    "\n",
    "In this notebook, we will explain the basic influence of the mass balance parameters on the mass balance output."
   ]
  },
  {
   "cell_type": "markdown",
   "metadata": {},
   "source": [
    "## Set-up"
   ]
  },
  {
   "cell_type": "code",
   "execution_count": null,
   "metadata": {
    "tags": []
   },
   "outputs": [],
   "source": [
    "import matplotlib.pyplot as plt\n",
    "import matplotlib\n",
    "import pandas as pd\n",
    "import numpy as np\n",
    "import os\n",
    "\n",
    "import oggm\n",
    "from oggm import cfg, utils, workflow, tasks, graphics\n",
    "from oggm.core import massbalance\n",
    "from oggm.core.massbalance import mb_calibration_from_scalar_mb, mb_calibration_from_geodetic_mb"
   ]
  },
  {
   "cell_type": "code",
   "execution_count": null,
   "metadata": {
    "tags": []
   },
   "outputs": [],
   "source": [
    "cfg.initialize()\n",
    "cfg.PATHS['working_dir'] = utils.gettempdir(dirname='OGGM-calib-mb', reset=True)"
   ]
  },
  {
   "cell_type": "markdown",
   "metadata": {},
   "source": [
    "We will focus on Hassanabad glacier (according to RGI):"
   ]
  },
  {
   "cell_type": "code",
   "execution_count": null,
   "metadata": {
    "tags": []
   },
   "outputs": [],
   "source": [
    "# we start from preprocessing level 3 again\n",
    "base_url = 'https://cluster.klima.uni-bremen.de/~oggm/gdirs/oggm_v1.6/L3-L5_files/2023.1/elev_bands/W5E5'\n",
    "gdirs = workflow.init_glacier_directories(['RGI60-14.05446'], from_prepro_level=3, prepro_base_url=base_url)"
   ]
  },
  {
   "cell_type": "code",
   "execution_count": null,
   "metadata": {
    "tags": []
   },
   "outputs": [],
   "source": [
    "# Pick the glacier and plot it\n",
    "gdir = gdirs[0]\n",
    "\n",
    "f, ax = plt.subplots(1,1,figsize=(6, 6))\n",
    "graphics.plot_googlemap(gdir, ax=ax)\n",
    "ax.set_title(gdir.rgi_id);"
   ]
  },
  {
   "cell_type": "markdown",
   "metadata": {},
   "source": [
    "## Calibrated mass balance parameters in the OGGM pre-processed directories"
   ]
  },
  {
   "cell_type": "markdown",
   "metadata": {},
   "source": [
    "We just downloaded the data. Let's have a look at the climate data we used and the calibrated parameters:"
   ]
  },
  {
   "cell_type": "code",
   "execution_count": null,
   "metadata": {
    "tags": []
   },
   "outputs": [],
   "source": [
    "gdir.get_climate_info()"
   ]
  },
  {
   "cell_type": "markdown",
   "metadata": {},
   "source": [
    "This is called the \"baseline climate\" in OGGM and is necessary to calibrate the model against observations. Ideally, the baseline climate should be real observations as perfect as possible, but in reality this is not the case. Often, gridded climate datasets have biases - we need to take this into accound during our calibration. Let's have a look at the mass balance parameters for both glaciers:"
   ]
  },
  {
   "cell_type": "code",
   "execution_count": null,
   "metadata": {
    "tags": []
   },
   "outputs": [],
   "source": [
    "mb_calib = gdir.read_json('mb_calib')  # read the calibrated parameters\n",
    "mb_calib"
   ]
  },
  {
   "cell_type": "markdown",
   "metadata": {},
   "source": [
    "We will explain later what these parameters mean. Lets focus on these for now: `melt_f`, `prcp_fac`, and `temp_bias` which have been calibrated with `reference_mb` over the reference period `reference_period`.\n",
    "\n",
    "Per default the [Hugonnet et al. (2021)](https://www.nature.com/articles/s41586-021-03436-z) average geodetic observation is used over the entire time period Jan 2000 to Jan 2020 to calibrate the MB model parameter(s) for every single glacier."
   ]
  },
  {
   "cell_type": "markdown",
   "metadata": {},
   "source": [
    "## Plot the modelled mass balance time series "
   ]
  },
  {
   "cell_type": "markdown",
   "metadata": {},
   "source": [
    "OGGM provides a pre-calibrated mass-balance model. Let's use it:"
   ]
  },
  {
   "cell_type": "code",
   "execution_count": null,
   "metadata": {
    "tags": []
   },
   "outputs": [],
   "source": [
    "mb_model = massbalance.MonthlyTIModel(gdir)"
   ]
  },
  {
   "cell_type": "markdown",
   "metadata": {},
   "source": [
    "To compute the mass balance, we need to know the elevation and width of our glacier. OGGM gets this information from the model flowlines:"
   ]
  },
  {
   "cell_type": "code",
   "execution_count": null,
   "metadata": {
    "tags": []
   },
   "outputs": [],
   "source": [
    "# Read the model flowlines for the plot\n",
    "fls = gdir.read_pickle('model_flowlines')\n",
    "heights = fls[0].surface_h"
   ]
  },
  {
   "cell_type": "code",
   "execution_count": null,
   "metadata": {
    "tags": []
   },
   "outputs": [],
   "source": [
    "# We want to compute the mass balance for the years 1980-2020\n",
    "years = np.arange(1980, 2020)\n",
    "\n",
    "# Let's compute it\n",
    "mb_ts = mb_model.get_specific_mb(fls=fls, year=years)\n",
    "\n",
    "# And plot it\n",
    "plt.plot(years, mb_ts);\n",
    "plt.ylabel('Specific MB (mm w.e.)');\n",
    "plt.xlabel('Year');"
   ]
  },
  {
   "cell_type": "markdown",
   "metadata": {},
   "source": [
    "How do we compare to the satellite \"observations\"? Let's add them to the plot:"
   ]
  },
  {
   "cell_type": "code",
   "execution_count": null,
   "metadata": {
    "tags": []
   },
   "outputs": [],
   "source": [
    "ref_mb = mb_calib['reference_mb']\n",
    "ref_mb_err = mb_calib['reference_mb_err']"
   ]
  },
  {
   "cell_type": "code",
   "execution_count": null,
   "metadata": {
    "tags": []
   },
   "outputs": [],
   "source": [
    "plt.fill_between([2000, 2020], ref_mb+ref_mb_err, ref_mb-ref_mb_err, color='grey', alpha=0.5)\n",
    "plt.hlines([ref_mb], 2000, 2020, color='k')\n",
    "plt.plot(years, mb_ts);\n",
    "plt.ylabel('Specific MB (mm w.e.)');\n",
    "plt.xlabel('Year');"
   ]
  },
  {
   "cell_type": "markdown",
   "metadata": {},
   "source": [
    "Note that the error bar here does not represent inter-annual variability, but the error of the estimated average over 2000-2020."
   ]
  },
  {
   "cell_type": "markdown",
   "metadata": {},
   "source": [
    "## Plot the mass balance profiles"
   ]
  },
  {
   "cell_type": "markdown",
   "metadata": {},
   "source": [
    "For completeness, let's also show two mass balance profiles as computed by the model:"
   ]
  },
  {
   "cell_type": "code",
   "execution_count": null,
   "metadata": {
    "tags": []
   },
   "outputs": [],
   "source": [
    "# First selected year\n",
    "sel_year = 2000\n",
    "mb = mb_model.get_annual_mb(heights, year=sel_year)\n",
    "# convert units from kg ice per second to mm w.e. per year:\n",
    "mb = mb * cfg.SEC_IN_YEAR * cfg.PARAMS['ice_density'] \n",
    "plt.plot(mb, heights, '*', label=sel_year);\n",
    "\n",
    "# Another year:\n",
    "sel_year = 2003\n",
    "mb = mb_model.get_annual_mb(heights, year=sel_year)\n",
    "mb = mb * cfg.SEC_IN_YEAR * cfg.PARAMS['ice_density'] \n",
    "# Plot\n",
    "plt.plot(mb, heights, '*', label=sel_year);\n",
    "plt.ylabel('Elevation (m a.s.l.)'); plt.xlabel('MB (mm w.e. yr$^{-1}$)'); plt.legend();"
   ]
  },
  {
   "cell_type": "markdown",
   "metadata": {},
   "source": [
    "## Interpretation of the chosen parameters"
   ]
  },
  {
   "cell_type": "markdown",
   "metadata": {},
   "source": [
    "<div class=\"alert alert-info\">\n",
    "    <b>\n",
    "        How are these parameters calibrated by OGGM? Do they make sense, and how were they chosen? Let's discuss in class.\n",
    "    </b>\n",
    "</div>"
   ]
  },
  {
   "cell_type": "markdown",
   "metadata": {},
   "source": [
    "Note also that there are some global MB parameters (`mb_global_params`), which we assume to be the same globally for every glacier:"
   ]
  },
  {
   "cell_type": "code",
   "execution_count": null,
   "metadata": {
    "tags": []
   },
   "outputs": [],
   "source": [
    "gdir.read_json('mb_calib')['mb_global_params']"
   ]
  },
  {
   "cell_type": "markdown",
   "metadata": {},
   "source": [
    "These global MB parameter values were found to represent best the in-situ observations during a cross-validation for glaciers with additional observations. Of course, they could also be changed for different glaciers, but this would need even more data to justify the differences! The influence of using a different temperature lapse rate gradient to the default -0.0065 K/km are analysed in [Schuster et al. (2023, in review)](https://doi.org/10.31223/X5C65S)."
   ]
  },
  {
   "cell_type": "markdown",
   "metadata": {},
   "source": [
    "## Sensitivity analysis of the parameters "
   ]
  },
  {
   "cell_type": "markdown",
   "metadata": {},
   "source": [
    "Let's start by using the same mass balance model, but with the global default, non-calibrated OGGM parameters:"
   ]
  },
  {
   "cell_type": "code",
   "execution_count": null,
   "metadata": {
    "tags": []
   },
   "outputs": [],
   "source": [
    "# The \"naive\" model uses simple first guesses for the model parameters: no climate correction, melt factor of 5\n",
    "mbmod_naive = massbalance.MonthlyTIModel(gdir, temp_bias=0, prcp_fac=1, melt_f=5.)"
   ]
  },
  {
   "cell_type": "code",
   "execution_count": null,
   "metadata": {
    "tags": []
   },
   "outputs": [],
   "source": [
    "# Let's compute it for the same years at the other model\n",
    "mb_ts_naive = mbmod_naive.get_specific_mb(fls=fls, year=years)\n",
    "\n",
    "plt.plot(years, mb_ts, label='OGGM calibrated', color='k');\n",
    "plt.plot(years, mb_ts_naive, label='OGGM global parameters');\n",
    "plt.ylabel('Specific MB (mm w.e.)'); plt.xlabel('Year');\n",
    "plt.legend();"
   ]
  },
  {
   "cell_type": "markdown",
   "metadata": {},
   "source": [
    "Wow! This is really far from the observations! Simply assumming the mass balance parameter does not work in the majority of the cases.\n",
    "\n",
    "**The process of \"calibration\" refers to finding the optimal parameters so that the observations are matched. There are automated ways to do this, but first we will vary the parameters and see their influence.**\n",
    "\n",
    "Let vary the melt factor first:"
   ]
  },
  {
   "cell_type": "code",
   "execution_count": null,
   "metadata": {
    "tags": []
   },
   "outputs": [],
   "source": [
    "# Vary between 1 (extremely low) and 15 (very high)\n",
    "for melt_factor in [1, 5, 10, 15]:\n",
    "    mbmod_new = massbalance.MonthlyTIModel(gdir, temp_bias=0, prcp_fac=1, melt_f=melt_factor)\n",
    "    mb_ts_new = mbmod_new.get_specific_mb(fls=fls, year=years)\n",
    "    plt.plot(years, mb_ts_new, label=f'melt_f:{melt_factor}');\n",
    "plt.plot(years, mb_ts, label='OGGM calibrated', color='k');\n",
    "plt.ylabel('Specific MB (mm w.e.)'); plt.xlabel('Year'); plt.legend();"
   ]
  },
  {
   "cell_type": "markdown",
   "metadata": {},
   "source": [
    "It's even worse! The high melt factors are very far from optimal."
   ]
  },
  {
   "cell_type": "markdown",
   "metadata": {},
   "source": [
    "**Activity: copy the code above and, this time, change the temperature bias parameters to `[-2, -4, -6, -8]`, while keeping the melt factor constant at 5 and precipitation factor at 1. Plot the result.**"
   ]
  },
  {
   "cell_type": "code",
   "execution_count": null,
   "metadata": {
    "tags": []
   },
   "outputs": [],
   "source": [
    "# Your answer here"
   ]
  },
  {
   "cell_type": "markdown",
   "metadata": {
    "tags": []
   },
   "source": [
    "<div class=\"alert alert-success\">\n",
    "<details><summary><b>Can't go any further?</b> <i>Click for the answer</i></summary>\n",
    "<code>\n",
    "# Vary between 1 (extremely low) and 15 (very high)<br>\n",
    "for temp_bias in [-2, -4, -6, -8]:<br>\n",
    "    mbmod_new = massbalance.MonthlyTIModel(gdir, temp_bias=temp_bias, prcp_fac=1, melt_f=melt_factor)<br>\n",
    "    mb_ts_new = mbmod_new.get_specific_mb(fls=fls, year=years)<br>\n",
    "    plt.plot(years, mb_ts_new, label=f'temp_bias:{temp_bias}');<br>\n",
    "plt.plot(years, mb_ts, label='OGGM calibrated', color='k');<br>\n",
    "plt.ylabel('Specific MB (mm w.e.)'); plt.xlabel('Year'); plt.legend();\n",
    "</code>\n",
    "</div>"
   ]
  },
  {
   "cell_type": "markdown",
   "metadata": {},
   "source": [
    "**Activity: copy the code above and, this time, change the precipitation factor parameters to `[1, 3, 6, 9]`, while keeping the melt factor constant at 5 and temperature bias at 0. Plot the result.**"
   ]
  },
  {
   "cell_type": "code",
   "execution_count": null,
   "metadata": {
    "tags": []
   },
   "outputs": [],
   "source": [
    "# Your answer here"
   ]
  },
  {
   "cell_type": "markdown",
   "metadata": {},
   "source": [
    "<div class=\"alert alert-success\">\n",
    "<details><summary><b>Can't go any further?</b> <i>Click for the answer</i></summary>\n",
    "<code>\n",
    "# Vary between 1 (unchanged precip) and 9 (very high precip)<br>\n",
    "for prcp_fac in [1, 3, 6, 9]:<br>\n",
    "    mbmod_new = massbalance.MonthlyTIModel(gdir, temp_bias=0, prcp_fac=prcp_fac, melt_f=5)<br>\n",
    "    mb_ts_new = mbmod_new.get_specific_mb(fls=fls, year=years)<br>\n",
    "    plt.plot(years, mb_ts_new, label=f'prcp_fac:{prcp_fac}');<br>\n",
    "plt.plot(years, mb_ts, label='OGGM calibrated', color='k');<br>\n",
    "plt.ylabel('Specific MB (mm w.e.)'); plt.xlabel('Year'); plt.legend();<br>\n",
    "</code>\n",
    "</div>"
   ]
  },
  {
   "cell_type": "markdown",
   "metadata": {},
   "source": [
    "## Automated calibration "
   ]
  },
  {
   "cell_type": "markdown",
   "metadata": {},
   "source": [
    "Because it is very tedious to find the optimal parameters manually like we did above, OGGM offers ways to calibrate the parameters automatically. This is the purpose of the `mb_calibration_` tasks and will be discussed in the training:"
   ]
  },
  {
   "cell_type": "code",
   "execution_count": null,
   "metadata": {
    "tags": []
   },
   "outputs": [],
   "source": [
    "from oggm.core.massbalance import mb_calibration_from_scalar_mb"
   ]
  },
  {
   "cell_type": "code",
   "execution_count": null,
   "metadata": {
    "tags": []
   },
   "outputs": [],
   "source": [
    "optimal_params_2 = mb_calibration_from_scalar_mb(gdir, ref_mb=mb_calib['reference_mb'], write_to_gdir=False,  \n",
    "                                                 ref_period='2000-01-01_2019-31-12',\n",
    "                                                 calibrate_param1='melt_f',\n",
    "                                                 calibrate_param2='temp_bias')"
   ]
  },
  {
   "cell_type": "code",
   "execution_count": null,
   "metadata": {
    "tags": []
   },
   "outputs": [],
   "source": [
    "optim_model_2 = massbalance.MonthlyTIModel(gdir, \n",
    "                                           temp_bias=optimal_params_2['temp_bias'], \n",
    "                                           prcp_fac=optimal_params_2['prcp_fac'], \n",
    "                                           melt_f=optimal_params_2['melt_f'])\n",
    "\n",
    "mb_ts_2  = optim_model_2.get_specific_mb(fls=fls, year=years)\n",
    "plt.plot(years, mb_ts_2, label=f'Another optimum');\n",
    "plt.plot(years, mb_ts, label='OGGM calibrated', color='k');\n",
    "plt.ylabel('Specific MB (mm w.e.)'); plt.xlabel('Year'); plt.legend();"
   ]
  },
  {
   "cell_type": "markdown",
   "metadata": {},
   "source": [
    "## Take home points "
   ]
  },
  {
   "cell_type": "markdown",
   "metadata": {},
   "source": [
    "The three mass balance parameters have a very difference influence on the simulated mass balance. We will discuss all of them during the training.\n",
    "\n",
    "If you want to go further, visit our [full tutorial on mass balance calibration](https://oggm.org/tutorials/stable/notebooks/advanced/massbalance_calibration.html) on the OGGM website."
   ]
  }
 ],
 "metadata": {
  "hide_input": false,
  "kernelspec": {
   "display_name": "Python 3 (ipykernel)",
   "language": "python",
   "name": "python3"
  },
  "language_info": {
   "codemirror_mode": {
    "name": "ipython",
    "version": 3
   },
   "file_extension": ".py",
   "mimetype": "text/x-python",
   "name": "python",
   "nbconvert_exporter": "python",
   "pygments_lexer": "ipython3",
   "version": "3.10.9"
  },
  "latex_envs": {
   "LaTeX_envs_menu_present": true,
   "autoclose": false,
   "autocomplete": true,
   "bibliofile": "biblio.bib",
   "cite_by": "apalike",
   "current_citInitial": 1,
   "eqLabelWithNumbers": true,
   "eqNumInitial": 1,
   "hotkeys": {
    "equation": "Ctrl-E",
    "itemize": "Ctrl-I"
   },
   "labels_anchors": false,
   "latex_user_defs": false,
   "report_style_numbering": false,
   "user_envs_cfg": false
  },
  "nbTranslate": {
   "displayLangs": [
    "*"
   ],
   "hotkey": "alt-t",
   "langInMainMenu": true,
   "sourceLang": "en",
   "targetLang": "fr",
   "useGoogleTranslate": true
  },
  "toc": {
   "base_numbering": 1,
   "nav_menu": {},
   "number_sections": false,
   "sideBar": true,
   "skip_h1_title": true,
   "title_cell": "Table of Contents",
   "title_sidebar": "Contents",
   "toc_cell": false,
   "toc_position": {},
   "toc_section_display": true,
   "toc_window_display": false
  }
 },
 "nbformat": 4,
 "nbformat_minor": 4
}
