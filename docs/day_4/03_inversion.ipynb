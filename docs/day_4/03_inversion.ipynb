{
 "cells": [
  {
   "cell_type": "markdown",
   "metadata": {},
   "source": [
    "# Ice thickness inversion"
   ]
  },
  {
   "cell_type": "markdown",
   "metadata": {},
   "source": [
    "This example shows how to run the OGGM ice thickness inversion model\n",
    "with various ice parameters: the deformation parameter A and a sliding\n",
    "parameter (fs).\n",
    "\n",
    "There is currently no \"best\" set of parameters for the ice thickness\n",
    "inversion model. As shown in\n",
    "[Maussion et al. (2019)](https://www.geosci-model-dev.net/12/909/2019/),\n",
    "the default parameter set results in global volume estimates which are a bit\n",
    "larger than previous values. For the global estimate of\n",
    "[Farinotti et al. (2019)](https://www.nature.com/articles/s41561-019-0300-3),\n",
    "OGGM participated with a deformation parameter A that is 1.5 times larger than the\n",
    "generally accepted default value.\n",
    "\n",
    "There is no reason to think that the ice parameters are the same between\n",
    "neighboring glaciers. There is currently no \"good\" way to calibrate them,\n",
    "or at least no generaly accepted one.\n",
    "We won't discuss the details here, but we provide a script to illustrate\n",
    "the sensitivity of the model to this choice.\n",
    "\n",
    "We also demonstrate how to apply a new global task in OGGM, `workflow.calibrate_inversion_from_consensus` to calibrate the A parameter to match the estimate from [Farinotti et al. (2019)](https://www.nature.com/articles/s41561-019-0300-3).\n",
    "\n",
    "At the end of this tutorial, we show how to distribute the \"flowline thickness\" to a glacier map."
   ]
  },
  {
   "cell_type": "markdown",
   "metadata": {},
   "source": [
    "## Run"
   ]
  },
  {
   "cell_type": "code",
   "execution_count": null,
   "metadata": {
    "tags": []
   },
   "outputs": [],
   "source": [
    "# Libs\n",
    "import geopandas as gpd\n",
    "\n",
    "# Locals\n",
    "import oggm.cfg as cfg\n",
    "from oggm import utils, workflow, tasks, graphics\n",
    "\n",
    "# Initialize OGGM and set up the default run parameters\n",
    "cfg.initialize(logging_level='WARNING')\n",
    "\n",
    "# Local working directory (where OGGM will write its output)\n",
    "WORKING_DIR = utils.gettempdir('OGGM_Inversion')\n",
    "cfg.PATHS['working_dir'] = WORKING_DIR\n",
    "\n",
    "# Here we use multiprocessing because we have many glaciers\n",
    "cfg.PARAMS['use_multiprocessing'] = True\n",
    "\n",
    "# Default parameters\n",
    "# Deformation: from Cuffey and Patterson 2010\n",
    "glen_a = 2.4e-24\n",
    "# Sliding: from Oerlemans 1997\n",
    "fs = 5.7e-20"
   ]
  },
  {
   "cell_type": "markdown",
   "metadata": {},
   "source": [
    "### Read the shapefile "
   ]
  },
  {
   "cell_type": "markdown",
   "metadata": {},
   "source": [
    "For the following code to work, you will need to downlad the [hunza_selection](https://github.com/OGGM/training-lahore/raw/main/docs/day_4/hunza_selection.zip) shapefile, extract it on your computer, and upload the files to the classroom directory."
   ]
  },
  {
   "cell_type": "code",
   "execution_count": null,
   "metadata": {
    "tags": []
   },
   "outputs": [],
   "source": [
    "rgi_df = gpd.read_file('hunza_selection.shp')\n",
    "rgi_df.plot(edgecolor='k');"
   ]
  },
  {
   "cell_type": "markdown",
   "metadata": {
    "tags": []
   },
   "source": [
    "This is a selection of 17 glaciers from the Hunza basin:"
   ]
  },
  {
   "cell_type": "code",
   "execution_count": null,
   "metadata": {
    "tags": []
   },
   "outputs": [],
   "source": [
    "rgi_df"
   ]
  },
  {
   "cell_type": "code",
   "execution_count": null,
   "metadata": {
    "tags": []
   },
   "outputs": [],
   "source": [
    "# Go - get the pre-processed glacier directories\n",
    "# We start at level 3, because we need all data for the inversion\n",
    "cfg.PARAMS['border'] = 80\n",
    "base_url = 'https://cluster.klima.uni-bremen.de/~oggm/gdirs/oggm_v1.6/L3-L5_files/2023.1/elev_bands/W5E5'\n",
    "gdirs = workflow.init_glacier_directories(rgi_df, from_prepro_level=3, prepro_base_url=base_url)"
   ]
  },
  {
   "cell_type": "markdown",
   "metadata": {},
   "source": [
    "## Inversion "
   ]
  },
  {
   "cell_type": "markdown",
   "metadata": {},
   "source": [
    "We estimate the ice thickness for all these glaciers testing various values for the Glen's flow parameter A and the sliding parameter fs. For more information about the inversion procedure in OGGM, visit [the documentation](https://docs.oggm.org/en/stable/inversion.html)."
   ]
  },
  {
   "cell_type": "code",
   "execution_count": null,
   "metadata": {
    "tags": []
   },
   "outputs": [],
   "source": [
    "with utils.DisableLogger(): \n",
    "    \n",
    "    # We test all these multiplicative factors against default A\n",
    "    factors = [0.1, 0.2, 0.5, 0.8, 1, 1.5, 2, 2.5, 3, 5, 8, 10]\n",
    "\n",
    "    # Run the inversions tasks with the given factors\n",
    "    for f in factors:\n",
    "        print(f'Now computing factor {f}')\n",
    "        # Without sliding\n",
    "        suf = '_{:03d}_without_fs'.format(int(f * 10))\n",
    "        workflow.execute_entity_task(tasks.mass_conservation_inversion, gdirs,\n",
    "                                     glen_a=glen_a*f, fs=0)\n",
    "        # Store the results of the inversion only\n",
    "        utils.compile_glacier_statistics(gdirs, filesuffix=suf,\n",
    "                                         inversion_only=True)\n",
    "\n",
    "        # With sliding\n",
    "        suf = '_{:03d}_with_fs'.format(int(f * 10))\n",
    "        workflow.execute_entity_task(tasks.mass_conservation_inversion, gdirs,\n",
    "                                     glen_a=glen_a*f, fs=fs)\n",
    "        # Store the results of the inversion only\n",
    "        utils.compile_glacier_statistics(gdirs, filesuffix=suf,\n",
    "                                         inversion_only=True)\n",
    "        \n",
    "print('Done!')"
   ]
  },
  {
   "cell_type": "markdown",
   "metadata": {},
   "source": [
    "## Results"
   ]
  },
  {
   "cell_type": "markdown",
   "metadata": {},
   "source": [
    "The data are stored as csv files in the working directory. The easiest way to read them is to use [pandas](http://pandas.pydata.org/)!"
   ]
  },
  {
   "cell_type": "code",
   "execution_count": null,
   "metadata": {
    "tags": []
   },
   "outputs": [],
   "source": [
    "import matplotlib.pyplot as plt\n",
    "import pandas as pd\n",
    "import numpy as np\n",
    "from scipy import stats\n",
    "import os"
   ]
  },
  {
   "cell_type": "markdown",
   "metadata": {},
   "source": [
    "Let's read the output of the inversion with the default OGGM parameters first:"
   ]
  },
  {
   "cell_type": "code",
   "execution_count": null,
   "metadata": {
    "tags": []
   },
   "outputs": [],
   "source": [
    "df = pd.read_csv(os.path.join(WORKING_DIR, 'glacier_statistics_010_without_fs.csv'), index_col=0)"
   ]
  },
  {
   "cell_type": "markdown",
   "metadata": {},
   "source": [
    "One way to visualize the output is to plot the volume as a function of area in a log-log plot, illustrating the well known volume-area relationship of mountain glaciers:"
   ]
  },
  {
   "cell_type": "code",
   "execution_count": null,
   "metadata": {
    "tags": []
   },
   "outputs": [],
   "source": [
    "ax = df.plot(kind='scatter', x='rgi_area_km2', y='inv_volume_km3')\n",
    "ax.semilogx(); ax.semilogy();"
   ]
  },
  {
   "cell_type": "markdown",
   "metadata": {},
   "source": [
    "As we can see, there is a clear relationship, but it is not perfect. Let's fit a line to these data (the \"volume-area scaling law\"):"
   ]
  },
  {
   "cell_type": "code",
   "execution_count": null,
   "metadata": {
    "tags": []
   },
   "outputs": [],
   "source": [
    "# Fit in log space \n",
    "dfl = np.log(df[['inv_volume_km3', 'rgi_area_km2']])\n",
    "slope, intercept, r_value, p_value, std_err = stats.linregress(dfl.rgi_area_km2.values, dfl.inv_volume_km3.values)"
   ]
  },
  {
   "cell_type": "markdown",
   "metadata": {},
   "source": [
    "In their paper, [Bahr et al. (1997)](https://agupubs.onlinelibrary.wiley.com/doi/10.1029/97JB01696) describe this relationship as:\n",
    "\n",
    "$$V = \\alpha S^{\\gamma}$$\n",
    "\n",
    "With V the volume in km$^3$, S the area in km$^2$ and $\\alpha$ and $\\gamma$ the scaling parameters (0.034 and 1.375, respectively). How does OGGM compare to these?"
   ]
  },
  {
   "cell_type": "code",
   "execution_count": null,
   "metadata": {
    "tags": []
   },
   "outputs": [],
   "source": [
    "print('power: {:.3f}'.format(slope))\n",
    "print('slope: {:.3f}'.format(np.exp(intercept)))"
   ]
  },
  {
   "cell_type": "code",
   "execution_count": null,
   "metadata": {
    "tags": []
   },
   "outputs": [],
   "source": [
    "xlim = [df['rgi_area_km2'].min(), df['rgi_area_km2'].max()]\n",
    "ax = df.plot(kind='scatter', x='rgi_area_km2', y='inv_volume_km3', label='OGGM glaciers')\n",
    "ax.plot(xlim, np.exp(intercept) * (xlim ** slope), color='C3', label='Fitted line')\n",
    "ax.semilogx(); ax.semilogy();\n",
    "ax.legend();"
   ]
  },
  {
   "cell_type": "markdown",
   "metadata": {},
   "source": [
    "## Sensitivity analysis "
   ]
  },
  {
   "cell_type": "markdown",
   "metadata": {},
   "source": [
    "Now, let's read the output files of each run separately, and compute the regional volume out of them:"
   ]
  },
  {
   "cell_type": "code",
   "execution_count": null,
   "metadata": {
    "tags": []
   },
   "outputs": [],
   "source": [
    "dftot = pd.DataFrame(index=factors)\n",
    "for f in factors:\n",
    "    # Without sliding\n",
    "    suf = '_{:03d}_without_fs'.format(int(f * 10))\n",
    "    fpath = os.path.join(WORKING_DIR, 'glacier_statistics{}.csv'.format(suf))\n",
    "    _df = pd.read_csv(fpath, index_col=0, low_memory=False)\n",
    "    dftot.loc[f, 'without_sliding'] = _df.inv_volume_km3.sum()\n",
    "    \n",
    "    # With sliding\n",
    "    suf = '_{:03d}_with_fs'.format(int(f * 10))\n",
    "    fpath = os.path.join(WORKING_DIR, 'glacier_statistics{}.csv'.format(suf))\n",
    "    _df = pd.read_csv(fpath, index_col=0, low_memory=False)\n",
    "    dftot.loc[f, 'with_sliding'] = _df.inv_volume_km3.sum()"
   ]
  },
  {
   "cell_type": "markdown",
   "metadata": {},
   "source": [
    "And plot them:"
   ]
  },
  {
   "cell_type": "code",
   "execution_count": null,
   "metadata": {
    "tags": []
   },
   "outputs": [],
   "source": [
    "dftot.plot();\n",
    "plt.xlabel('Factor of Glen A (default 1)'); plt.ylabel('Regional volume (km$^3$)');"
   ]
  },
  {
   "cell_type": "markdown",
   "metadata": {},
   "source": [
    "As you can see, there is quite a difference between the solutions. In particular, close to the default value for Glen A, the regional estimates are very sensitive to small changes in A. The calibration of A is a problem that has yet to be resolved by global glacier models..."
   ]
  },
  {
   "cell_type": "markdown",
   "metadata": {},
   "source": [
    "## Calibrate to match an existing volume estimate \n",
    "\n",
    "Here, one \"best Glen A\" is found in order that the total inverted volume of the glaciers of gdirs fits to the estimate from Farinotti et al. (2019)."
   ]
  },
  {
   "cell_type": "code",
   "execution_count": null,
   "metadata": {
    "tags": []
   },
   "outputs": [],
   "source": [
    "# when we use all glaciers, no Glen A could be found within the range [0.1,10] that would match the consensus estimate\n",
    "# usually, this is applied on larger regions where this error should not occur ! \n",
    "cdf = workflow.calibrate_inversion_from_consensus(gdirs, filter_inversion_output=False, apply_fs_on_mismatch=True)"
   ]
  },
  {
   "cell_type": "code",
   "execution_count": null,
   "metadata": {},
   "outputs": [],
   "source": [
    "cdf.sum()"
   ]
  },
  {
   "cell_type": "markdown",
   "metadata": {},
   "source": [
    "Note that here we calibrate the Glen A parameter to a value that is equal for all glaciers of gdirs, i.e. we calibrate to match the total volume of all glaciers and not to match them individually."
   ]
  },
  {
   "cell_type": "markdown",
   "metadata": {},
   "source": [
    "*just as a side note, \"vol_bsl_itmix_m3\" means volume below sea level and is therefore zero for these Alpine glaciers!*"
   ]
  },
  {
   "cell_type": "markdown",
   "metadata": {},
   "source": [
    "## Distributed ice thickness "
   ]
  },
  {
   "cell_type": "markdown",
   "metadata": {},
   "source": [
    "The OGGM inversion and dynamical models use the \"1D\" flowline assumption: for some applications, you might want to use OGGM to create distributed ice thickness maps. Currently, OGGM implements two ways to \"distribute\" the flowline thicknesses, but only [the simplest one](https://docs.oggm.org/en/stable/generated/oggm.tasks.distribute_thickness_per_altitude.html) works robustly:"
   ]
  },
  {
   "cell_type": "code",
   "execution_count": null,
   "metadata": {
    "tags": []
   },
   "outputs": [],
   "source": [
    "gdir = gdirs[12]"
   ]
  },
  {
   "cell_type": "code",
   "execution_count": null,
   "metadata": {
    "tags": []
   },
   "outputs": [],
   "source": [
    "# Distribute\n",
    "workflow.execute_entity_task(tasks.distribute_thickness_per_altitude, [gdir]);"
   ]
  },
  {
   "cell_type": "code",
   "execution_count": null,
   "metadata": {
    "tags": []
   },
   "outputs": [],
   "source": [
    "graphics.plot_distributed_thickness(gdir, figsize=(12, 8))"
   ]
  },
  {
   "cell_type": "code",
   "execution_count": null,
   "metadata": {},
   "outputs": [],
   "source": []
  }
 ],
 "metadata": {
  "hide_input": false,
  "kernelspec": {
   "display_name": "Python 3 (ipykernel)",
   "language": "python",
   "name": "python3"
  },
  "language_info": {
   "codemirror_mode": {
    "name": "ipython",
    "version": 3
   },
   "file_extension": ".py",
   "mimetype": "text/x-python",
   "name": "python",
   "nbconvert_exporter": "python",
   "pygments_lexer": "ipython3",
   "version": "3.10.9"
  },
  "metadata": {
   "interpreter": {
    "hash": "705f036afebab14ba3958dfbf5720c1e1e37a03d5afe33574ff09620abf8737d"
   }
  },
  "toc": {
   "base_numbering": 1,
   "nav_menu": {},
   "number_sections": false,
   "sideBar": true,
   "skip_h1_title": true,
   "title_cell": "Table of Contents",
   "title_sidebar": "Contents",
   "toc_cell": false,
   "toc_position": {},
   "toc_section_display": true,
   "toc_window_display": false
  }
 },
 "nbformat": 4,
 "nbformat_minor": 4
}
