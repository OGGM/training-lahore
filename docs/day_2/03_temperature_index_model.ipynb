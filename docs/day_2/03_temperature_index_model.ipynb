{
 "cells": [
  {
   "cell_type": "markdown",
   "metadata": {},
   "source": [
    "# Coding a simple temperature index model"
   ]
  },
  {
   "cell_type": "markdown",
   "metadata": {},
   "source": [
    "Today we are going to code a simple temperature index model. We will start with creating the most basic [degree day model](http://www.antarcticglaciers.org/glaciers-and-climate/numerical-ice-sheet-models/modelling-glacier-melt/) (DDM). After that we will guide you step-by-step to add more complexity to the DDM. \n",
    "\n",
    "Also if you're new to python and/or a beginner in programming in general, there is no need to worry. We will take this step by step. We will start simple and it will get more challenging as we go. The goal of the activity is to get a grasp of temperature index models and get some hands-on experience (not to finish the notebook: so please go at your own pace). "
   ]
  },
  {
   "cell_type": "markdown",
   "metadata": {
    "tags": []
   },
   "source": [
    "Like always, we first load the packages we need. (Though this can be done later, doing it now keeps the document nice and tidy.)"
   ]
  },
  {
   "cell_type": "code",
   "execution_count": null,
   "metadata": {
    "tags": []
   },
   "outputs": [],
   "source": [
    "# imports and defaults\n",
    "import xarray as xr\n",
    "import matplotlib.pyplot as plt\n",
    "import numpy as np\n",
    "import seaborn as sns\n",
    "sns.set_style('ticks')\n",
    "sns.set_context('notebook')"
   ]
  },
  {
   "cell_type": "markdown",
   "metadata": {},
   "source": [
    "In addition to loading the packages, we will need climate data for our degree day model and mass balance data to calibrate our model. We will use the AWS data at Zhadang:\n",
    "\n",
    "Click the link to download: [aws_data_zhadang_localtime.nc](https://github.com/OGGM/training-lahore/raw/main/docs/day_2/aws_data_zhadang_localtime.nc). **You should put the file in the same folder as the notebook! We will demonstrate how to do this.**\n",
    "\n",
    "These data are from a [weather station on a glacier in Tibet (Zhadang)](https://github.com/OGGM/training-lahore/raw/main/docs/day_2/Maussion2011.pdf) that Fabien maintained during his PhD.\n",
    "\n",
    "Lets have a look what is in the file. As you can see (after executing the next cell) there are quite some variables in this file, but we will only use what we need. "
   ]
  },
  {
   "cell_type": "code",
   "execution_count": null,
   "metadata": {
    "tags": []
   },
   "outputs": [],
   "source": [
    "# read the data\n",
    "with xr.open_dataset('aws_data_zhadang_localtime.nc') as ds:\n",
    "    ds = ds.load()\n",
    "ds"
   ]
  },
  {
   "cell_type": "markdown",
   "metadata": {},
   "source": [
    "*Note: we gave you this data because you learnt this format and xarray in the previous notebook. If you prefer a `csv` file, you can download it [here](https://github.com/OGGM/training-lahore/raw/main/docs/day_2/aws_data_zhadang_localtime.nc).*"
   ]
  },
  {
   "cell_type": "markdown",
   "metadata": {},
   "source": [
    "The data is has a hourly resolution. As the name of the model states, we need daily data in a degree day model. Let's compute that:"
   ]
  },
  {
   "cell_type": "code",
   "execution_count": null,
   "metadata": {
    "tags": []
   },
   "outputs": [],
   "source": [
    "# resample to daily\n",
    "ds = ds.resample(time='D').mean()\n",
    "ds"
   ]
  },
  {
   "cell_type": "markdown",
   "metadata": {},
   "source": [
    "There are more variable here than we actually need. Let's have a look at the SR50 variable first. The sonic ranger ([SR50](https://www.campbellsci.com/sr50a)) is a stationary device that measure the changes in surface elevation by measuring the travel return time of a pulse:"
   ]
  },
  {
   "cell_type": "code",
   "execution_count": null,
   "metadata": {
    "tags": []
   },
   "outputs": [],
   "source": [
    "ds.SR50.plot();"
   ]
  },
  {
   "cell_type": "markdown",
   "metadata": {},
   "source": [
    "As we can see, there is quite some data gaps. This is because the SR50 was buried in snow during the first winter. Therefore, lets focus on the melting season 2012, form May 15th until August 15th:"
   ]
  },
  {
   "cell_type": "code",
   "execution_count": null,
   "metadata": {
    "tags": []
   },
   "outputs": [],
   "source": [
    "ds = ds.sel(time=slice('2012-05-15', '2012-08-15'))"
   ]
  },
  {
   "cell_type": "code",
   "execution_count": null,
   "metadata": {
    "tags": []
   },
   "outputs": [],
   "source": [
    "ds.TEMP.plot();\n",
    "plt.title('Daily temperature'); plt.ylabel('°C');"
   ]
  },
  {
   "cell_type": "code",
   "execution_count": null,
   "metadata": {
    "tags": []
   },
   "outputs": [],
   "source": [
    "ds.SR50.plot();\n",
    "plt.title('Surface height (0 = ice)'); plt.ylabel('[m]');"
   ]
  },
  {
   "cell_type": "markdown",
   "metadata": {},
   "source": [
    "This plot shows surface elevation, but what we want to simulate is melt in units of water. The [usual unit of melt](https://wgms.ch/downloads/Cogley_etal_2011.pdf) is mm water equivalent (or, better: kg m-2). Let us convert surface elevation into melt, using the following density values:\n",
    "- snow: 200 kg m-4\n",
    "- ice/firn: 850 kg m-4\n",
    "\n",
    "Let us do this for you (no need to understand what is going on):"
   ]
  },
  {
   "cell_type": "code",
   "execution_count": null,
   "metadata": {
    "tags": []
   },
   "outputs": [],
   "source": [
    "# No need to understand the code below for now\n",
    "is_snow = ds.SR50.where(ds.SR50 > 0, -1) > 0\n",
    "snow_melt = - ds.SR50.where(ds.SR50 > 0, 0) * 200\n",
    "ice_melt = - ds.SR50.where(ds.SR50 <= 0, 0) * 850\n",
    "observed_melt = snow_melt + ice_melt - snow_melt.isel(time=0)"
   ]
  },
  {
   "cell_type": "code",
   "execution_count": null,
   "metadata": {
    "tags": []
   },
   "outputs": [],
   "source": [
    "observed_melt.plot();\n",
    "plt.title('Cumulative melt'); plt.ylabel('[kg m-2]');"
   ]
  },
  {
   "cell_type": "markdown",
   "metadata": {
    "tags": []
   },
   "source": [
    "As we can see, the melting at the beginning of the season (in presence of snow) is actually slower than the melting of ice (when converted to water equivalent)."
   ]
  },
  {
   "cell_type": "markdown",
   "metadata": {},
   "source": [
    "## 1. Simplest DDM"
   ]
  },
  {
   "cell_type": "markdown",
   "metadata": {},
   "source": [
    "For the simplest DDM, we are going to use a single factor for the entire melting period. The DDM formulation is very simple:\n",
    "\n",
    "$$Melt = f \\cdot PDD$$"
   ]
  },
  {
   "cell_type": "markdown",
   "metadata": {},
   "source": [
    "Where PDD is the sum total of daily average temperatures above 0°C in a given time period and f is a melting factor. Melt is computed in mm water equivalent (w.e. or kg m-2) per day (d-1), and therefore the melt factor has units kg m-2 K-1 d-1. \n",
    "\n",
    "Let's start by computing the \"positive degree days\", which is the sume of temperature above the melt threshold (here 0°):"
   ]
  },
  {
   "cell_type": "code",
   "execution_count": null,
   "metadata": {
    "jupyter": {
     "outputs_hidden": false
    },
    "tags": []
   },
   "outputs": [],
   "source": [
    "# The function \"where\" works as follows: where our statement is true, keep the data. When false, replace by 0\n",
    "pdd = ds.TEMP.where(ds.TEMP > 0, 0)"
   ]
  },
  {
   "cell_type": "code",
   "execution_count": null,
   "metadata": {
    "tags": []
   },
   "outputs": [],
   "source": [
    "pdd.plot();\n",
    "plt.title('Daily degree days'); plt.ylabel('°C');"
   ]
  },
  {
   "cell_type": "markdown",
   "metadata": {},
   "source": [
    "As documented [since quite some time](https://www.sciencedirect.com/science/article/abs/pii/S0022169403002579), \"positive degree days\" are a good indicator of ice or snow melt over a day. Let's verify this! \n",
    "\n",
    "Let's assume that the melt factor is 12.\n",
    "\n",
    "**Activity: compute daily modelled melt according to the formula above. Then compute the cumulative melt over the period, and plot it on the same graph as the cumulative observed melt.**\n",
    "\n",
    "*Tip: you will need the [.cumsum()](https://docs.xarray.dev/en/stable/generated/xarray.DataArray.cumsum.html) function*"
   ]
  },
  {
   "cell_type": "code",
   "execution_count": null,
   "metadata": {
    "tags": []
   },
   "outputs": [],
   "source": [
    "# Your answer here"
   ]
  },
  {
   "cell_type": "markdown",
   "metadata": {},
   "source": [
    "<div class=\"alert alert-success\">\n",
    "<details><summary><b>Can't go any further?</b> <i>Click for the answer</i></summary>\n",
    "<code>\n",
    "melt_f = 12\n",
    "modelled_melt = (melt_f * pdd).cumsum()\n",
    "observed_melt.plot(label='Cumulative melt (observations)')\n",
    "modelled_melt.plot(label='Cumulative melt (model)')\n",
    "plt.ylabel('[kg m-2]')\n",
    "plt.legend();\n",
    "</code>\n",
    "</div>"
   ]
  },
  {
   "cell_type": "markdown",
   "metadata": {},
   "source": [
    "## 2. Calibrated DDM"
   ]
  },
  {
   "cell_type": "markdown",
   "metadata": {},
   "source": [
    "Not too bad for a model! But I'm sure we can do a little bit better. First of all, we could compute the melt factor so that observations are matched perfectly (calibration).\n",
    "\n",
    "**Activity: compute the melt factor so that melt is matched perfectly. Replot your results.**\n",
    "\n",
    "*Tip: you may need the `.max()` function to compute the total cumulative melt, and you may also need to compute the sum of the positive degree days over the period with `.sum()`.*"
   ]
  },
  {
   "cell_type": "code",
   "execution_count": null,
   "metadata": {
    "tags": []
   },
   "outputs": [],
   "source": [
    "# Your answer here"
   ]
  },
  {
   "cell_type": "markdown",
   "metadata": {
    "tags": []
   },
   "source": [
    "<div class=\"alert alert-success\">\n",
    "<details><summary><b>Can't go any further?</b> <i>Click for the answer</i></summary>\n",
    "<code>\n",
    "optimal_melt_f = observed_melt.max() / pdd.sum()\n",
    "modelled_melt = (optimal_melt_f * pdd).cumsum()\n",
    "observed_melt.plot(label='Cumulative melt (observations)')\n",
    "modelled_melt.plot(label='Cumulative melt (better model)')\n",
    "plt.ylabel('[kg m-2]')\n",
    "plt.legend();\n",
    "</code>\n",
    "</div>"
   ]
  },
  {
   "cell_type": "markdown",
   "metadata": {},
   "source": [
    "## 3. Optional: different factors for ice and snow "
   ]
  },
  {
   "cell_type": "markdown",
   "metadata": {},
   "source": [
    "Even with the perfectly calibrated model, the pergormance in the first half is not very good. This is because we are not distiguishing between the snow surface (which has a higher albedo) from the ice surface. Traditionally, we use different factors for ice and snow.\n",
    "\n",
    "**Optional activity: if you are a versed python coder, you might be able to code a model which is able to do that. You will need the is_snow variable we computed earlier. You may also compute the optimal parameter yourself, but here is our suggestion for them: snow_factor=6.11, ice_factor=11.22.**"
   ]
  },
  {
   "cell_type": "code",
   "execution_count": null,
   "metadata": {
    "tags": []
   },
   "outputs": [],
   "source": [
    "# Your answer here"
   ]
  },
  {
   "cell_type": "markdown",
   "metadata": {
    "tags": []
   },
   "source": [
    "<div class=\"alert alert-success\">\n",
    "<details><summary><b>Can't go any further?</b> <i>Click for the answer</i></summary>\n",
    "<code>\n",
    "# Compute the snow melt factor\n",
    "snow_melt = observed_melt[is_snow].max()\n",
    "snow_factor = snow_melt / pdd[is_snow].sum()\n",
    "# Compute the ice melt facto\n",
    "ice_melt = observed_melt[~is_snow].max() - observed_melt[~is_snow].min() \n",
    "ice_factor = ice_melt / pdd[~is_snow].sum()\n",
    "# Total model\n",
    "best_model_daily = snow_factor * pdd.where(is_snow, 0) + ice_factor * pdd.where(~is_snow, 0)\n",
    "best_model = best_model_daily.cumsum()\n",
    "# Plot\n",
    "observed_melt.plot(label='Cumulative melt (observations)')\n",
    "best_model.plot(label='Cumulative melt (best model)')\n",
    "plt.ylabel('[kg m-2]')\n",
    "plt.legend();\n",
    "</code>\n",
    "</div>"
   ]
  },
  {
   "cell_type": "markdown",
   "metadata": {},
   "source": [
    "## Concluding remarks"
   ]
  },
  {
   "cell_type": "markdown",
   "metadata": {},
   "source": [
    "Note that a full mass balance model should take into account both accumulation (snowfall) and ablation (melt). Furthermore, distributed models like OGGM need to simulate the mass-balance at different elevations, which requires other paramters (such as lapse rate). Fundamentally, however, the equations is very simple. If you are interested, [here](https://github.com/OGGM/oggm/blob/ade87f6b5b7f3115800023a57f12b9da59c90d69/oggm/core/massbalance.py#L647) is the code of the equation in OGGM. \"Easy\", right?\n",
    "\n",
    "Temperature index models can be extended to include more processes, such as radiation or snow aging. OGGM PhD student Lilian, for example, wrote a model which takes into account the influence of aging of the snow on the melt factor. For this, you'll need to implement a kind of \"snowpack\" model, where snow height is tracked over time. \n",
    "\n",
    "If you are finished early and want to go further, have a look at [this OGGM tutorial](https://oggm.org/tutorials/stable/notebooks/beginner/plot_mass_balance.html) on plotting the mass balance. In two days, we will go deeper into the implementation and calibration of the models in OGGM."
   ]
  }
 ],
 "metadata": {
  "kernelspec": {
   "display_name": "Python 3 (ipykernel)",
   "language": "python",
   "name": "python3"
  },
  "language_info": {
   "codemirror_mode": {
    "name": "ipython",
    "version": 3
   },
   "file_extension": ".py",
   "mimetype": "text/x-python",
   "name": "python",
   "nbconvert_exporter": "python",
   "pygments_lexer": "ipython3",
   "version": "3.10.9"
  }
 },
 "nbformat": 4,
 "nbformat_minor": 4
}
