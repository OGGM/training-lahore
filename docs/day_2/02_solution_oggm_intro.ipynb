{
 "cells": [
  {
   "cell_type": "markdown",
   "id": "231ce336-cac0-42ea-8924-ba0a3a5536c6",
   "metadata": {},
   "source": [
    "# Solution to the coding activities: \"A first projection in OGGM\""
   ]
  },
  {
   "cell_type": "markdown",
   "id": "94496c65-7e46-4fee-99ed-52eadc94f795",
   "metadata": {},
   "source": [
    "Set-up:"
   ]
  },
  {
   "cell_type": "code",
   "execution_count": null,
   "id": "49fb9506-11e6-43d5-9a72-3460e055d621",
   "metadata": {
    "tags": []
   },
   "outputs": [],
   "source": [
    "from oggm import cfg, utils, workflow, tasks\n",
    "from oggm.shop import gcm_climate\n",
    "import xarray as xr\n",
    "import matplotlib.pyplot as plt\n",
    "import numpy as np\n",
    "import seaborn as sns\n",
    "\n",
    "cfg.initialize(logging_level='WARNING')\n",
    "cfg.PATHS['working_dir'] = utils.gettempdir(dirname='Solution', reset=True)\n",
    "# Add additional outputs for the maps below\n",
    "cfg.PARAMS['store_fl_diagnostics'] = True\n",
    "\n",
    "rgi_ids = ['RGI60-11.00897']\n",
    "base_url = 'https://cluster.klima.uni-bremen.de/~oggm/gdirs/oggm_v1.6/L3-L5_files/2023.1/elev_bands/W5E5'\n",
    "gdirs = workflow.init_glacier_directories(rgi_ids, prepro_base_url=base_url, from_prepro_level=4, prepro_border=80)\n",
    "\n",
    "gdir = gdirs[0]\n",
    "\n",
    "with xr.open_dataset(gdir.get_filepath('climate_historical')) as ds:\n",
    "    ds = ds.load()\n",
    "    \n",
    "member = 'mri-esm2-0_r1i1p1f1'\n",
    "ssp = 'ssp126'\n",
    "workflow.execute_entity_task(gcm_climate.process_monthly_isimip_data, gdirs, \n",
    "                             ssp=ssp,  # SSP scenario -> you can choose another one later\n",
    "                             member=member,  # ensemble member -> you can choose another one later\n",
    "                             output_filesuffix=f'_ISIMIP3b_{member}_{ssp}',  # make the output file recognizable for later\n",
    "                             );\n",
    "\n",
    "\n",
    "with xr.open_dataset(gdir.get_filepath('gcm_data', filesuffix=f'_ISIMIP3b_{member}_{ssp}')) as dsgcm:\n",
    "    dsgcm = dsgcm.load()"
   ]
  },
  {
   "cell_type": "markdown",
   "id": "68f65c21-62cd-415e-98ca-fc053c055c68",
   "metadata": {},
   "source": [
    "## Plotting two curves with a legend"
   ]
  },
  {
   "cell_type": "code",
   "execution_count": null,
   "id": "a269f8dc-2336-4e6a-ad12-debeef9eabb9",
   "metadata": {
    "tags": []
   },
   "outputs": [],
   "source": [
    "# Plot the data\n",
    "# first plot mean annual temperture including a label\n",
    "temp_annual = ds.temp.resample(time='AS').mean()\n",
    "temp_annual.plot(label=f'Annual temperature at {int(ds.ref_hgt)}m a.s.l.');\n",
    "\n",
    "# second plot 30 year averaged anual mean temperture including a label\n",
    "temp_31yr = temp_annual.rolling(time=31, center=True, min_periods=15).mean()\n",
    "temp_31yr.plot(label='30yr average');\n",
    "\n",
    "# finally, add a legend to the plot\n",
    "plt.legend();"
   ]
  },
  {
   "cell_type": "markdown",
   "id": "ac5c7a88-0c4b-463e-9fdb-a245093b1482",
   "metadata": {},
   "source": [
    "## Plotting the GCM data on top of the historical data "
   ]
  },
  {
   "cell_type": "code",
   "execution_count": null,
   "id": "c97e74bb-63a4-4711-9d59-5e33dd6944ab",
   "metadata": {
    "tags": []
   },
   "outputs": [],
   "source": [
    "temp_annual.plot(label='W5E5');\n",
    "dsgcm.temp.resample(time='AS').mean().plot(label='ISIMIP3b - SSP126');\n",
    "plt.legend();"
   ]
  },
  {
   "cell_type": "markdown",
   "id": "c67f4f06-ebf5-4ed2-9763-2f2729885c4a",
   "metadata": {},
   "source": [
    "## Run all scenarios an plot them on one plot"
   ]
  },
  {
   "cell_type": "code",
   "execution_count": null,
   "id": "8f182c85-ab37-49c8-9860-0a889a6bc55c",
   "metadata": {
    "tags": []
   },
   "outputs": [],
   "source": [
    "# Run\n",
    "for ssp in ['ssp126', 'ssp370', 'ssp585']:\n",
    "    rid = f'_ISIMIP3b_{member}_{ssp}'\n",
    "    workflow.execute_entity_task(gcm_climate.process_monthly_isimip_data, gdirs, \n",
    "                                 ssp = ssp, member=member,\n",
    "                                 output_filesuffix=rid);\n",
    "    workflow.execute_entity_task(tasks.run_from_climate_data, gdirs,\n",
    "                                 climate_filename='gcm_data', \n",
    "                                 climate_input_filesuffix=rid,  \n",
    "                                 init_model_filesuffix='_historical',  \n",
    "                                 output_filesuffix=rid);\n",
    "\n",
    "\n",
    "# Plot\n",
    "# Pick some colors for the lines\n",
    "color_dict={'ssp126':'blue', 'ssp370':'orange', 'ssp585':'red'}\n",
    "for ssp in ['ssp126','ssp370', 'ssp585']:\n",
    "    rid = f'_ISIMIP3b_{member}_{ssp}'\n",
    "    with xr.open_dataset(gdir.get_filepath('model_diagnostics', filesuffix=rid)) as dsproj:\n",
    "        vol_proj = dsproj.volume_m3 * 1e-9\n",
    "    vol_proj.plot(label=ssp, c=color_dict[ssp]);\n",
    "plt.legend();"
   ]
  },
  {
   "cell_type": "markdown",
   "id": "d5519bab-29d1-4c92-8f1c-a963508101d8",
   "metadata": {},
   "source": [
    "## Run Baltoro instead "
   ]
  },
  {
   "cell_type": "code",
   "execution_count": null,
   "id": "81a383f7-0006-4b46-b3f0-657e2e559722",
   "metadata": {
    "tags": []
   },
   "outputs": [],
   "source": [
    "rgi_ids = ['RGI60-14.06794']\n",
    "gdirs = workflow.init_glacier_directories(rgi_ids, prepro_base_url=base_url, from_prepro_level=5, prepro_border=80)\n",
    "\n",
    "gdir = gdirs[0]\n",
    "\n",
    "# Run\n",
    "for ssp in ['ssp126', 'ssp370', 'ssp585']:\n",
    "    rid = f'_ISIMIP3b_{member}_{ssp}'\n",
    "    workflow.execute_entity_task(gcm_climate.process_monthly_isimip_data, gdirs, \n",
    "                                 ssp = ssp, member=member,\n",
    "                                 output_filesuffix=rid);\n",
    "    workflow.execute_entity_task(tasks.run_from_climate_data, gdirs,\n",
    "                                 climate_filename='gcm_data', \n",
    "                                 climate_input_filesuffix=rid,  \n",
    "                                 init_model_filesuffix='_historical',  \n",
    "                                 output_filesuffix=rid);\n",
    "\n",
    "\n",
    "# Plot\n",
    "# Pick some colors for the lines\n",
    "color_dict={'ssp126':'blue', 'ssp370':'orange', 'ssp585':'red'}\n",
    "for ssp in ['ssp126','ssp370', 'ssp585']:\n",
    "    rid = f'_ISIMIP3b_{member}_{ssp}'\n",
    "    with xr.open_dataset(gdir.get_filepath('model_diagnostics', filesuffix=rid)) as dsproj:\n",
    "        vol_proj = dsproj.volume_m3 * 1e-9\n",
    "    vol_proj.plot(label=ssp, c=color_dict[ssp]);\n",
    "plt.legend();"
   ]
  },
  {
   "cell_type": "code",
   "execution_count": null,
   "id": "51716446-8f00-44a9-877d-2d9ce6b01459",
   "metadata": {
    "tags": []
   },
   "outputs": [],
   "source": [
    "with xr.open_dataset(gdir.get_filepath('fl_diagnostics', filesuffix=rid), group=f'fl_0') as dsfl:\n",
    "    dsfl = dsfl.load()\n",
    "\n",
    "surface_h = dsfl.bed_h + dsfl.thickness_m\n",
    "time_sel = np.linspace(2020, 2100, 17)\n",
    "colors = sns.color_palette('flare_r', len(time_sel))\n",
    "\n",
    "with plt.rc_context({'axes.prop_cycle': plt.cycler(color=colors)}):\n",
    "    f, ax = plt.subplots(figsize=(10, 7))\n",
    "    surface_h.sel(time=time_sel).plot(ax=ax, hue='time')\n",
    "    dsfl.bed_h.plot(ax=ax, c='grey')"
   ]
  }
 ],
 "metadata": {
  "kernelspec": {
   "display_name": "Python 3 (ipykernel)",
   "language": "python",
   "name": "python3"
  },
  "language_info": {
   "codemirror_mode": {
    "name": "ipython",
    "version": 3
   },
   "file_extension": ".py",
   "mimetype": "text/x-python",
   "name": "python",
   "nbconvert_exporter": "python",
   "pygments_lexer": "ipython3",
   "version": "3.10.6"
  }
 },
 "nbformat": 4,
 "nbformat_minor": 5
}
