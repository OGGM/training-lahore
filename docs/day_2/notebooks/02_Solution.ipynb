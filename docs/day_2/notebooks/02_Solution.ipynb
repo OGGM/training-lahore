{
 "cells": [
  {
   "cell_type": "markdown",
   "id": "231ce336-cac0-42ea-8924-ba0a3a5536c6",
   "metadata": {},
   "source": [
    "# Solution to small coding challange"
   ]
  },
  {
   "cell_type": "code",
   "execution_count": null,
   "id": "49fb9506-11e6-43d5-9a72-3460e055d621",
   "metadata": {
    "tags": []
   },
   "outputs": [],
   "source": [
    "from oggm import cfg, utils, workflow\n",
    "import xarray as xr\n",
    "import matplotlib.pyplot as plt\n",
    "\n",
    "cfg.initialize(logging_level='WARNING')\n",
    "cfg.PATHS['working_dir'] = utils.gettempdir(dirname='Solution', reset=True)\n",
    "\n",
    "rgi_ids = ['RGI60-14.06794']\n",
    "base_url = 'https://cluster.klima.uni-bremen.de/~oggm/gdirs/oggm_v1.6/L3-L5_files/2023.1/elev_bands/W5E5'\n",
    "gdirs = workflow.init_glacier_directories(rgi_ids, prepro_base_url=base_url, from_prepro_level=3, prepro_border=80)\n",
    "\n",
    "with xr.open_dataset(gdirs[0].get_filepath('climate_historical')) as ds:\n",
    "    ds = ds.load()"
   ]
  },
  {
   "cell_type": "markdown",
   "id": "68f65c21-62cd-415e-98ca-fc053c055c68",
   "metadata": {},
   "source": [
    "## The actual Solution"
   ]
  },
  {
   "cell_type": "code",
   "execution_count": null,
   "id": "a269f8dc-2336-4e6a-ad12-debeef9eabb9",
   "metadata": {
    "tags": []
   },
   "outputs": [],
   "source": [
    "# Plot the data\n",
    "# first plot mean annual temperture including a label\n",
    "ds.temp.resample(time='AS').mean().plot(label=f'Annual temperature at {int(ds.ref_hgt)}m a.s.l.');\n",
    "\n",
    "# second plot 30 year averaged anual mean temperture including a label\n",
    "ds.temp.resample(time='AS').mean().rolling(time=31, center=True, min_periods=15).mean().plot(label='30yr average');\n",
    "\n",
    "# finally, add a legend to the plot\n",
    "plt.legend();"
   ]
  }
 ],
 "metadata": {
  "kernelspec": {
   "display_name": "Python 3 (ipykernel)",
   "language": "python",
   "name": "python3"
  },
  "language_info": {
   "codemirror_mode": {
    "name": "ipython",
    "version": 3
   },
   "file_extension": ".py",
   "mimetype": "text/x-python",
   "name": "python",
   "nbconvert_exporter": "python",
   "pygments_lexer": "ipython3",
   "version": "3.10.6"
  }
 },
 "nbformat": 4,
 "nbformat_minor": 5
}
