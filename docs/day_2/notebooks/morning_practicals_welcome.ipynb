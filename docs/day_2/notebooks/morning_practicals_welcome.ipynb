{
 "cells": [
  {
   "cell_type": "markdown",
   "id": "6130b69d-d15f-4085-9ab2-3a252caca1f4",
   "metadata": {},
   "source": [
    "# Morning Practicals"
   ]
  },
  {
   "cell_type": "markdown",
   "id": "c5d173eb-5fab-4441-9888-8cc2599a8495",
   "metadata": {},
   "source": [
    "Our Notebooks for the morning Practicals are:\n",
    "\n",
    "- [Getting started with notebooks](01_getting_started_with_notebooks.ipynb)\n",
    "- [A OGGM Workflow Intro](02_oggm_workflow_intro.ipynb)\n",
    "- [A glacier change projection with GCM data](03_run_with_gcm.ipynb)"
   ]
  }
 ],
 "metadata": {
  "kernelspec": {
   "display_name": "Python 3 (ipykernel)",
   "language": "python",
   "name": "python3"
  },
  "language_info": {
   "codemirror_mode": {
    "name": "ipython",
    "version": 3
   },
   "file_extension": ".py",
   "mimetype": "text/x-python",
   "name": "python",
   "nbconvert_exporter": "python",
   "pygments_lexer": "ipython3",
   "version": "3.10.6"
  }
 },
 "nbformat": 4,
 "nbformat_minor": 5
}
