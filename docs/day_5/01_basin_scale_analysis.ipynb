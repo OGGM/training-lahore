{
 "cells": [
  {
   "cell_type": "markdown",
   "id": "7a7bd3ab-2950-443e-b4e6-a826ec0aa9d2",
   "metadata": {},
   "source": [
    "# Basin scale analysis "
   ]
  },
  {
   "cell_type": "markdown",
   "id": "afdddaad-2a5c-4ec4-b28b-402616640ca4",
   "metadata": {},
   "source": [
    "In construction"
   ]
  },
  {
   "cell_type": "code",
   "execution_count": null,
   "id": "18804999-4bcc-4838-8f6f-69f5b878533a",
   "metadata": {},
   "outputs": [],
   "source": []
  }
 ],
 "metadata": {
  "kernelspec": {
   "display_name": "Python 3 (ipykernel)",
   "language": "python",
   "name": "python3"
  },
  "language_info": {
   "codemirror_mode": {
    "name": "ipython",
    "version": 3
   },
   "file_extension": ".py",
   "mimetype": "text/x-python",
   "name": "python",
   "nbconvert_exporter": "python",
   "pygments_lexer": "ipython3",
   "version": "3.10.9"
  }
 },
 "nbformat": 4,
 "nbformat_minor": 5
}
