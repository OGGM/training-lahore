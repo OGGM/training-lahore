{
 "cells": [
  {
   "cell_type": "markdown",
   "id": "b3a6d57a-fb03-4f9a-9a0f-8ef60fbfaf44",
   "metadata": {},
   "source": [
    "# Selecting glaciers in a shapefile, selecting data, running OGGM for a list of glaciers"
   ]
  },
  {
   "cell_type": "markdown",
   "id": "92c84f9e-9f4a-43c8-906d-f09b773f4a7e",
   "metadata": {},
   "source": [
    "In this notebook we will:\n",
    "- "
   ]
  },
  {
   "cell_type": "code",
   "execution_count": null,
   "id": "f3717bf9-7a8b-4f52-9da1-fa6c7d58eb23",
   "metadata": {
    "tags": []
   },
   "outputs": [],
   "source": [
    "import geopandas as gpd"
   ]
  },
  {
   "cell_type": "code",
   "execution_count": null,
   "id": "3cd8e43b-705d-4486-9346-76cf7072065c",
   "metadata": {
    "tags": []
   },
   "outputs": [],
   "source": [
    "import xarray as xr\n",
    "import salem\n",
    "import numpy as np\n",
    "import pandas as pd"
   ]
  },
  {
   "cell_type": "code",
   "execution_count": null,
   "id": "1e5c5978-75ce-4bde-b3e4-cfcf3fa36a42",
   "metadata": {
    "tags": []
   },
   "outputs": [],
   "source": [
    "import matplotlib.pyplot as plt\n",
    "import seaborn as sns\n",
    "sns.set_context('notebook') "
   ]
  },
  {
   "cell_type": "code",
   "execution_count": null,
   "id": "a79a2e00-e2c5-4c4b-8f9e-d56901c9550c",
   "metadata": {
    "tags": []
   },
   "outputs": [],
   "source": [
    "import oggm.cfg\n",
    "from oggm import utils, workflow, tasks, graphics"
   ]
  },
  {
   "cell_type": "code",
   "execution_count": null,
   "id": "f782e4d2-8a76-4d37-9f18-2915e982ebae",
   "metadata": {
    "tags": []
   },
   "outputs": [],
   "source": [
    "# OGGM options\n",
    "oggm.cfg.initialize(logging_level='WARNING')"
   ]
  },
  {
   "cell_type": "markdown",
   "id": "d51694d0-ca28-4027-8e59-9b8225e4ba50",
   "metadata": {},
   "source": [
    "## Reading the RGI file"
   ]
  },
  {
   "cell_type": "markdown",
   "id": "23fe4e0c-6dfe-4a3b-8afd-c47ecbe0ffab",
   "metadata": {},
   "source": [
    "RGI can be downloaded freely. In OGGM we offer to read them for you:"
   ]
  },
  {
   "cell_type": "code",
   "execution_count": null,
   "id": "c62482b0-bdbb-4dab-99d1-8fdf7ed450dd",
   "metadata": {
    "tags": []
   },
   "outputs": [],
   "source": [
    "from oggm import utils\n",
    "rgi_file = utils.get_rgi_region_file(14, version='62')  # This is East Asia"
   ]
  },
  {
   "cell_type": "code",
   "execution_count": null,
   "id": "2f02cfcd-fa8c-4cc6-9d1c-15e8278541e7",
   "metadata": {
    "tags": []
   },
   "outputs": [],
   "source": [
    "# Read it\n",
    "rgi_df = gpd.read_file(rgi_file)"
   ]
  },
  {
   "cell_type": "code",
   "execution_count": null,
   "id": "8f91d1f0-0809-4e8c-be5b-4237bbbd2b0c",
   "metadata": {
    "tags": []
   },
   "outputs": [],
   "source": [
    "f\"The region has {len(rgi_df)} glaciers and an area of {rgi_df['Area'].sum()}km2\""
   ]
  },
  {
   "cell_type": "markdown",
   "id": "10c9fae0-59fd-4349-8fe9-e0a3c6ec559e",
   "metadata": {},
   "source": [
    "## Selecting glaciers in a basin "
   ]
  },
  {
   "cell_type": "markdown",
   "id": "310d5e36-af05-4685-9ad1-12eea0a14358",
   "metadata": {},
   "source": [
    "This file can be downloaded [here](https://github.com/OGGM/training-lahore/raw/main/docs/day_5/Astore.zip) and added to the folder of the notebook."
   ]
  },
  {
   "cell_type": "code",
   "execution_count": null,
   "id": "669f6e58-651c-4445-9b01-79c4c9dafbe8",
   "metadata": {
    "tags": []
   },
   "outputs": [],
   "source": [
    "fpath = 'zip://Astore.zip/Astore'\n",
    "basin_df = gpd.read_file(fpath)"
   ]
  },
  {
   "cell_type": "code",
   "execution_count": null,
   "id": "a9ce7f41-1d81-44f4-b2f8-110d9a6b420c",
   "metadata": {
    "tags": []
   },
   "outputs": [],
   "source": [
    "basin_df.plot();"
   ]
  },
  {
   "cell_type": "markdown",
   "id": "04a24ee1-bee6-4840-884e-eae2489aed52",
   "metadata": {},
   "source": [
    "We can select all glaciers within this shape by using their center point:"
   ]
  },
  {
   "cell_type": "code",
   "execution_count": null,
   "id": "b5211a47-8d7a-45c1-8ac8-78ea093ab09c",
   "metadata": {
    "tags": []
   },
   "outputs": [],
   "source": [
    "import shapely.geometry as shpg\n",
    "in_basin = [basin_df.geometry.contains(shpg.Point(x, y))[0] for (x, y) in zip(rgi_df.CenLon, rgi_df.CenLat)]\n",
    "rgi_df_sel = rgi_df.loc[in_basin]"
   ]
  },
  {
   "cell_type": "code",
   "execution_count": null,
   "id": "9af8398e-0841-43b2-bc7a-bc71d4efd1d5",
   "metadata": {
    "tags": []
   },
   "outputs": [],
   "source": [
    "ax = basin_df.plot();\n",
    "rgi_df_sel.plot(ax=ax, edgecolor='k');"
   ]
  },
  {
   "cell_type": "code",
   "execution_count": null,
   "id": "9ad5ecbe-5a2b-43fb-9839-cb8a87082307",
   "metadata": {
    "tags": []
   },
   "outputs": [],
   "source": [
    "f\"The Astore region has {len(rgi_df_sel)} glaciers and an area of {rgi_df_sel['Area'].sum():.2f} km2\""
   ]
  },
  {
   "cell_type": "markdown",
   "id": "bb1fe907-464a-48ee-adaf-cb3eae88e710",
   "metadata": {},
   "source": [
    "## Optional: fancy plot "
   ]
  },
  {
   "cell_type": "code",
   "execution_count": null,
   "id": "510579eb-a723-43c0-9610-ff0911e4b8aa",
   "metadata": {
    "tags": []
   },
   "outputs": [],
   "source": [
    "# One interactive plot below requires Bokeh\n",
    "# The rest of the notebook works without this dependency - comment if needed\n",
    "import holoviews as hv\n",
    "hv.extension('bokeh')\n",
    "import geoviews as gv\n",
    "import geoviews.tile_sources as gts"
   ]
  },
  {
   "cell_type": "code",
   "execution_count": null,
   "id": "e4cbb6a5-a833-4a74-9190-b8ffcdc8efff",
   "metadata": {
    "tags": []
   },
   "outputs": [],
   "source": [
    "(gv.Polygons(rgi_df_sel[['geometry']]).opts(fill_color=None, color_index=None) * gts.tile_sources['EsriImagery'] * \n",
    " gts.tile_sources['StamenLabels']).opts(width=750, height=500, active_tools=['pan', 'wheel_zoom'])"
   ]
  },
  {
   "cell_type": "markdown",
   "id": "3c77602a-fc73-4db1-b448-a062297ab00e",
   "metadata": {},
   "source": [
    "## Read the Rounce et al. (2023) projections and select the data "
   ]
  },
  {
   "cell_type": "markdown",
   "id": "76a9db9d-8a2f-4601-8b64-0204bb75695e",
   "metadata": {},
   "source": [
    "These data are provided by [Rounce et al., 2023](https://www.science.org/doi/10.1126/science.abo1324) ([download](https://www.cmu.edu/cee/people/faculty/rounce.html)). The whole global dataset is available here: https://nsidc.org/data/hma2_ggp/versions/1 \n",
    "\n",
    "We prepared data for the entire Indus basin for you. You can download them in different selections here: https://cluster.klima.uni-bremen.de/~fmaussion/share/world_basins/rounce_data \n",
    "\n",
    "Here we illustrate how to select data for Astore out of the much larger Indus file, which contains more than 25k glaciers!"
   ]
  },
  {
   "cell_type": "code",
   "execution_count": null,
   "id": "8b08a0a1-47bb-498b-aba4-b289fd2ed34c",
   "metadata": {
    "tags": []
   },
   "outputs": [],
   "source": [
    "import xarray as xr\n",
    "\n",
    "# Take the data as numpy array\n",
    "rgi_ids = rgi_df_sel['RGIId'].values\n",
    "\n",
    "# This path works on classroom.oggm.org! To do the same locally download the data and open it from there\n",
    "# path = '/home/www/fmaussion/share/world_basins/rounce_data/Indus/runoff_rounce_INDUS_ssp126_monthly.nc'\n",
    "# If you work elsewhere, you can use this:\n",
    "path = utils.file_downloader('https://cluster.klima.uni-bremen.de/~fmaussion/share/world_basins/rounce_data/Indus/runoff_rounce_INDUS_ssp126_monthly.nc')\n",
    "\n",
    "# This might take a minute, as it extracts data from a large file\n",
    "# Sometimes a random HDF error occurs on classroom - I'm not sure why...\n",
    "with xr.open_dataset(path) as ds:\n",
    "    # This selects the 357 glaciers out of many thousands\n",
    "    ds_rounce_ssp126 = ds.sel(rgi_id=rgi_ids).load()"
   ]
  },
  {
   "cell_type": "markdown",
   "id": "3f4bb949-6992-4cfb-8932-0e5e85809a33",
   "metadata": {},
   "source": [
    "Let's have a look at the data now:"
   ]
  },
  {
   "cell_type": "code",
   "execution_count": null,
   "id": "442e4767-7e11-4a87-ab0a-b22c7f3c35cf",
   "metadata": {
    "tags": []
   },
   "outputs": [],
   "source": [
    "ds_rounce_ssp126"
   ]
  },
  {
   "cell_type": "markdown",
   "id": "fc80dd3e-dffa-46ba-b5a5-fa0c44b38293",
   "metadata": {},
   "source": [
    "We can see that all GCMS and all RGI IDs are available in the file as dimensions (see also [this OGGM tutorial](https://oggm.org/tutorials/stable/notebooks/advanced/merge_gcm_runs_and_visualize.html)). We could, for example, select one glacier and plot all GCMs:"
   ]
  },
  {
   "cell_type": "code",
   "execution_count": null,
   "id": "6faf7797-73fd-441d-9ba7-ac893f1c6a4c",
   "metadata": {
    "tags": []
   },
   "outputs": [],
   "source": [
    "glacier = ds_rounce_ssp126.sel(rgi_id='RGI60-14.20157').glac_runoff_fixed_monthly\n",
    "glacier_annual_sum = glacier.resample(time='AS').sum()\n",
    "glacier_monthly_runoff = glacier.groupby(glacier['time.month']).mean()"
   ]
  },
  {
   "cell_type": "code",
   "execution_count": null,
   "id": "d82c435a-0ed3-4486-bc9d-12e08bc70b6e",
   "metadata": {
    "tags": []
   },
   "outputs": [],
   "source": [
    "glacier_annual_sum.plot(hue='gcm');"
   ]
  },
  {
   "cell_type": "code",
   "execution_count": null,
   "id": "36aae83c-185c-4986-9815-136eadf9aee8",
   "metadata": {
    "tags": []
   },
   "outputs": [],
   "source": [
    "glacier_monthly_runoff.plot(hue='gcm');"
   ]
  },
  {
   "cell_type": "markdown",
   "id": "1c587f98-879b-416f-beda-21f0a251350a",
   "metadata": {},
   "source": [
    "Or one can select all glaciers but average over the GCMS:"
   ]
  },
  {
   "cell_type": "code",
   "execution_count": null,
   "id": "42f508c6-babc-47ce-880d-0d9bc1ae7085",
   "metadata": {
    "tags": []
   },
   "outputs": [],
   "source": [
    "all_glaciers_gcm_avg = ds_rounce_ssp126.glac_runoff_fixed_monthly.sum(dim='rgi_id').mean(dim='gcm')\n",
    "all_glaciers_gcm_avg_annual = all_glaciers_gcm_avg.resample(time='AS').sum()\n",
    "all_glaciers_gcm_avg_monthly_runoff = all_glaciers_gcm_avg.groupby(all_glaciers_gcm_avg['time.month']).mean()"
   ]
  },
  {
   "cell_type": "code",
   "execution_count": null,
   "id": "8df033cc-e922-40db-9b26-585f507f6c10",
   "metadata": {
    "tags": []
   },
   "outputs": [],
   "source": [
    "all_glaciers_gcm_avg_annual.plot();"
   ]
  },
  {
   "cell_type": "code",
   "execution_count": null,
   "id": "1aaf3691-ec0d-4b14-87bf-8414476cda0b",
   "metadata": {
    "tags": []
   },
   "outputs": [],
   "source": [
    "all_glaciers_gcm_avg_monthly_runoff.plot();"
   ]
  },
  {
   "cell_type": "markdown",
   "id": "294d5021-66ef-4aed-97f8-6d10e2789d98",
   "metadata": {},
   "source": [
    "## Running OGGM for a list of glaciers "
   ]
  },
  {
   "cell_type": "markdown",
   "id": "80b1999c-4eac-4d37-951e-7bf367fb949b",
   "metadata": {},
   "source": [
    "357 glaciers might take too much time to run on classroom! So we select only the largest glaciers here:"
   ]
  },
  {
   "cell_type": "code",
   "execution_count": null,
   "id": "5a7b9a76-5f55-4197-8bb7-6537de7efc6c",
   "metadata": {
    "tags": []
   },
   "outputs": [],
   "source": [
    "rgi_df_sel_more = rgi_df_sel.loc[rgi_df_sel['Area'] > 5]\n",
    "len(rgi_df_sel_more)"
   ]
  },
  {
   "cell_type": "code",
   "execution_count": null,
   "id": "e0c4fbaf-f3eb-453b-9075-9cca80015a25",
   "metadata": {
    "tags": []
   },
   "outputs": [],
   "source": [
    "# OGGM options\n",
    "oggm.cfg.initialize(logging_level='WARNING')\n",
    "oggm.cfg.PATHS['working_dir'] = 'WaterResources-Proj-Astore'\n",
    "oggm.cfg.PARAMS['store_model_geometry'] = True\n",
    "oggm.cfg.PARAMS['use_multiprocessing'] = True  # Important!"
   ]
  },
  {
   "cell_type": "code",
   "execution_count": null,
   "id": "5d23b5ed-ecb1-458b-910a-5b3478f9c2fc",
   "metadata": {
    "tags": []
   },
   "outputs": [],
   "source": [
    "base_url = 'https://cluster.klima.uni-bremen.de/~oggm/gdirs/oggm_v1.6/L3-L5_files/2023.1/elev_bands/W5E5_spinup'\n",
    "gdirs = workflow.init_glacier_directories(rgi_df_sel_more, from_prepro_level=5, prepro_border=160, prepro_base_url=base_url)"
   ]
  },
  {
   "cell_type": "markdown",
   "id": "8f8e223d-1f4a-490a-96c4-02840954a279",
   "metadata": {},
   "source": [
    "`gdirs` now contain 7 glaciers"
   ]
  },
  {
   "cell_type": "code",
   "execution_count": null,
   "id": "d2644903-e936-4ee3-9457-ca0e0d1bb9fd",
   "metadata": {
    "tags": []
   },
   "outputs": [],
   "source": [
    "len(gdirs)"
   ]
  },
  {
   "cell_type": "markdown",
   "id": "1ddc4086-bf98-462e-91e2-83d6b92a065b",
   "metadata": {},
   "source": [
    "### Climate projections data\n",
    "\n",
    "Before we run our future simulation we have to process the climate data for the glacier. We are using the bias-corrected projections from the Inter-Sectoral Impact Model Intercomparison Project ([ISIMIP](https://www.isimip.org)). They are offering climate projections from CMIP6 (the basis for the IPCC AR6) but already bias-corrected to our glacier grid point. Let's download them:"
   ]
  },
  {
   "cell_type": "code",
   "execution_count": null,
   "id": "a28733da-296c-42ec-8379-1429bcaf0c6d",
   "metadata": {
    "tags": []
   },
   "outputs": [],
   "source": [
    "# you can choose one of these 5 different GCMs:\n",
    "# 'gfdl-esm4_r1i1p1f1', 'mpi-esm1-2-hr_r1i1p1f1', 'mri-esm2-0_r1i1p1f1' (\"low sensitivity\" models, within typical ranges from AR6)\n",
    "# 'ipsl-cm6a-lr_r1i1p1f1', 'ukesm1-0-ll_r1i1p1f2' (\"hotter\" models, especially ukesm1-0-ll)\n",
    "from oggm.shop import gcm_climate\n",
    "member = 'mri-esm2-0_r1i1p1f1' \n",
    "\n",
    "# Download the three main SSPs\n",
    "for ssp in ['ssp126', 'ssp370','ssp585']:\n",
    "    # bias correct them\n",
    "    workflow.execute_entity_task(gcm_climate.process_monthly_isimip_data, gdirs, \n",
    "                                 ssp = ssp,\n",
    "                                 # gcm member -> you can choose another one\n",
    "                                 member=member,\n",
    "                                 # recognize the climate file for later\n",
    "                                 output_filesuffix=f'_ISIMIP3b_{member}_{ssp}'\n",
    "                                 );"
   ]
  },
  {
   "cell_type": "markdown",
   "id": "2173ffe6-63ab-4f1f-9306-af9ed1c83279",
   "metadata": {},
   "source": [
    "### Projection run\n",
    "\n",
    "With the climate data download complete, we can run the forced simulations:"
   ]
  },
  {
   "cell_type": "code",
   "execution_count": null,
   "id": "b418351a-f861-4c56-ad1c-2803b7b9cfd6",
   "metadata": {
    "tags": []
   },
   "outputs": [],
   "source": [
    "for ssp in ['ssp126', 'ssp370', 'ssp585']:\n",
    "    rid = f'_ISIMIP3b_{member}_{ssp}'\n",
    "    workflow.execute_entity_task(tasks.run_with_hydro, gdirs,\n",
    "                             run_task=tasks.run_from_climate_data, ys=2020,\n",
    "                             # use gcm_data, not climate_historical\n",
    "                             climate_filename='gcm_data',\n",
    "                             # use the chosen scenario\n",
    "                             climate_input_filesuffix=rid,\n",
    "                             # this is important! Start from 2020 glacier\n",
    "                             init_model_filesuffix='_spinup_historical',\n",
    "                             # recognize the run for later\n",
    "                             output_filesuffix=rid,\n",
    "                             # add monthly diagnostics\n",
    "                             store_monthly_hydro=True);"
   ]
  },
  {
   "cell_type": "markdown",
   "id": "1a758a16-5a40-42f9-8a6b-1adf50e929eb",
   "metadata": {},
   "source": [
    "### Combine the data "
   ]
  },
  {
   "cell_type": "markdown",
   "id": "bd15f5b2-df56-4ebb-901f-ca06a5f0db13",
   "metadata": {},
   "source": [
    "For this we use the OGGM utility functions `compile_*`:"
   ]
  },
  {
   "cell_type": "code",
   "execution_count": null,
   "id": "6f4216ae-bf16-482b-9752-ef714aed1e07",
   "metadata": {
    "tags": []
   },
   "outputs": [],
   "source": [
    "ds_historical = utils.compile_run_output(gdirs, input_filesuffix='_spinup_historical')"
   ]
  },
  {
   "cell_type": "code",
   "execution_count": null,
   "id": "ce257b6c-95df-425f-b0c5-0b58fd521368",
   "metadata": {
    "tags": []
   },
   "outputs": [],
   "source": [
    "ssp = 'ssp126'\n",
    "ds_oggm_ssp126 = utils.compile_run_output(gdirs, input_filesuffix=f'_ISIMIP3b_{member}_{ssp}')\n",
    "ssp = 'ssp370'\n",
    "ds_oggm_ssp370 = utils.compile_run_output(gdirs, input_filesuffix=f'_ISIMIP3b_{member}_{ssp}')\n",
    "ssp = 'ssp585'\n",
    "ds_oggm_ssp585 = utils.compile_run_output(gdirs, input_filesuffix=f'_ISIMIP3b_{member}_{ssp}')"
   ]
  },
  {
   "cell_type": "code",
   "execution_count": null,
   "id": "01056101-6b19-43ea-b06a-8b75223969b6",
   "metadata": {
    "tags": []
   },
   "outputs": [],
   "source": [
    "ds_historical.volume.sum(dim='rgi_id').sel(time=slice('2000', '2021')).plot();\n",
    "ds_oggm_ssp126.volume.sum(dim='rgi_id').plot();\n",
    "ds_oggm_ssp370.volume.sum(dim='rgi_id').plot();\n",
    "ds_oggm_ssp585.volume.sum(dim='rgi_id').plot();"
   ]
  },
  {
   "cell_type": "markdown",
   "id": "1a524b31-b1a5-4ea3-aa3f-41695bf9c41a",
   "metadata": {},
   "source": [
    "### Plot the hydrological output "
   ]
  },
  {
   "cell_type": "code",
   "execution_count": null,
   "id": "9b71ff55-af6f-4a1c-9b06-1a343532b68f",
   "metadata": {
    "tags": []
   },
   "outputs": [],
   "source": [
    "# Create the figure\n",
    "f, ax = plt.subplots(figsize=(18, 7), sharex=True)\n",
    "# Loop over all scenarios\n",
    "for i, ssp in enumerate(['ssp126', 'ssp370', 'ssp585']):\n",
    "    file_id = f'_ISIMIP3b_{member}_{ssp}'\n",
    "    \n",
    "    # This repeats the step above but hey\n",
    "    ds = utils.compile_run_output(gdirs, input_filesuffix=f'_ISIMIP3b_{member}_{ssp}')\n",
    "    ds = ds.sum(dim='rgi_id').isel(time=slice(0, -1))\n",
    "        \n",
    "    # Select annual variables\n",
    "    sel_vars = [v for v in ds.variables if 'month_2d' not in ds[v].dims]\n",
    "    # And create a dataframe\n",
    "    df_annual = ds[sel_vars].to_dataframe()\n",
    "\n",
    "    # Select the variables relevant for runoff.\n",
    "    runoff_vars = ['melt_off_glacier', 'melt_on_glacier', \n",
    "                   'liq_prcp_off_glacier', 'liq_prcp_on_glacier']\n",
    "    # Convert to mega tonnes instead of kg.\n",
    "    df_runoff = df_annual[runoff_vars].clip(0) * 1e-9\n",
    "    # Sum the variables each year \"axis=1\", take the 11 year rolling mean and plot it.\n",
    "    df_roll = df_runoff.sum(axis=1).rolling(window=11, center=True).mean()\n",
    "    df_roll.plot(ax=ax, label=ssp, color=sns.color_palette(\"rocket\")[i])\n",
    "\n",
    "ax.set_ylabel('Annual runoff (Mt)'); ax.set_xlabel('Year'); plt.title(gdirs[0].rgi_id); plt.legend();"
   ]
  },
  {
   "cell_type": "markdown",
   "id": "b3dd73ec-40fc-45aa-86ab-3f460212397e",
   "metadata": {},
   "source": [
    "## Let's compare Rounce et al. (2023) data and OGGM for these 7 selected glaciers, GCM and SSP"
   ]
  },
  {
   "cell_type": "markdown",
   "id": "9a83db63-c5d1-401e-9542-eef2dfaf816d",
   "metadata": {
    "tags": []
   },
   "source": [
    "OGGM first:"
   ]
  },
  {
   "cell_type": "code",
   "execution_count": null,
   "id": "89f26156-94b1-4186-82da-16c6f7845bc6",
   "metadata": {
    "tags": []
   },
   "outputs": [],
   "source": [
    "# Select the variables relevant for runoff.\n",
    "runoff_vars = ['melt_off_glacier', 'melt_on_glacier', \n",
    "               'liq_prcp_off_glacier', 'liq_prcp_on_glacier']\n",
    "# And create a dataframe\n",
    "df_annual = ds_oggm_ssp126[sel_vars].sum(dim='rgi_id').isel(time=slice(0, -1)).to_dataframe()\n",
    "\n",
    "# Select the variables relevant for runoff.\n",
    "runoff_vars = ['melt_off_glacier', 'melt_on_glacier', \n",
    "               'liq_prcp_off_glacier', 'liq_prcp_on_glacier']\n",
    "# Convert to mega tonnes instead of kg.\n",
    "df_runoff = df_annual[runoff_vars].clip(0) * 1e-9"
   ]
  },
  {
   "cell_type": "markdown",
   "id": "32262c50-3f84-4309-9fc9-9b6e9324c286",
   "metadata": {
    "tags": []
   },
   "source": [
    "Then Rounce:"
   ]
  },
  {
   "cell_type": "code",
   "execution_count": null,
   "id": "859e83e5-3515-4964-9d25-bc3d0c138558",
   "metadata": {
    "tags": []
   },
   "outputs": [],
   "source": [
    "ds_rounce_ssp126_sel = ds_rounce_ssp126.sel(rgi_id=ds_oggm_ssp126.rgi_id, gcm='MRI-ESM2-0')\n",
    "ds_rounce_ssp126_sel = ds_rounce_ssp126_sel.glac_runoff_fixed_monthly.sum(dim='rgi_id').resample(time='AS').sum() * 1e-9\n",
    "ds_rounce_ssp126_sel['time'] = ds_rounce_ssp126_sel['time.year'] "
   ]
  },
  {
   "cell_type": "code",
   "execution_count": null,
   "id": "c394aa9a-401b-468d-bd09-bb337777ebe6",
   "metadata": {
    "tags": []
   },
   "outputs": [],
   "source": [
    "df_runoff.sum(axis=1).plot(label='OGGM');\n",
    "ds_rounce_ssp126_sel.plot(label='Rounce et al.');\n",
    "plt.ylabel('Annual runoff (Mt)'); plt.legend();"
   ]
  },
  {
   "cell_type": "markdown",
   "id": "46fbb368-62bb-4805-983a-ff6a522e04f1",
   "metadata": {},
   "source": [
    "That's very close! Often the projections are not so close though."
   ]
  }
 ],
 "metadata": {
  "kernelspec": {
   "display_name": "Python 3 (ipykernel)",
   "language": "python",
   "name": "python3"
  },
  "language_info": {
   "codemirror_mode": {
    "name": "ipython",
    "version": 3
   },
   "file_extension": ".py",
   "mimetype": "text/x-python",
   "name": "python",
   "nbconvert_exporter": "python",
   "pygments_lexer": "ipython3",
   "version": "3.10.9"
  }
 },
 "nbformat": 4,
 "nbformat_minor": 5
}
