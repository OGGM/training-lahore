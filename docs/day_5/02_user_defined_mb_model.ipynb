{
 "cells": [
  {
   "cell_type": "markdown",
   "id": "9f549842-e235-424a-a81f-9a2029090132",
   "metadata": {},
   "source": [
    "# Define and use your own Mass-Balance Model"
   ]
  },
  {
   "cell_type": "markdown",
   "id": "18c7c5cf-634e-48f4-863f-f030ba2af58e",
   "metadata": {},
   "source": [
    "In this notebook we define a Mass-Balance model, open the glacier geometry at the RGI date (represented by the flowlines) and put these two parts together to conduct a dynamic glacier model run.\n",
    "\n",
    "We start with the already well-known initialisation of our glacier of choice:"
   ]
  },
  {
   "cell_type": "code",
   "execution_count": null,
   "id": "fe217dfe-2b45-4a85-b5bb-1659cc7e33c2",
   "metadata": {
    "tags": []
   },
   "outputs": [],
   "source": [
    "import numpy as np\n",
    "import matplotlib.pyplot as plt\n",
    "from oggm import cfg, utils, workflow, tasks\n",
    "from oggm.cfg import SEC_IN_YEAR\n",
    "\n",
    "cfg.initialize(logging_level='WARNING')\n",
    "\n",
    "# Local working directory (where OGGM will write its output)\n",
    "WORKING_DIR = utils.gettempdir('OGGM_model_from_scratch')\n",
    "cfg.PATHS['working_dir'] = WORKING_DIR\n",
    "\n",
    "rgi_ids = ['RGI60-11.00897']\n",
    "\n",
    "cfg.PARAMS['border'] = 80\n",
    "base_url = 'https://cluster.klima.uni-bremen.de/~oggm/gdirs/oggm_v1.6/L3-L5_files/2023.1/elev_bands/W5E5'\n",
    "gdirs = workflow.init_glacier_directories(rgi_ids, from_prepro_level=3, prepro_base_url=base_url)\n",
    "gdir = gdirs[0]"
   ]
  },
  {
   "cell_type": "markdown",
   "id": "4519e0d2-9063-4758-a1de-c4915fbc3b72",
   "metadata": {},
   "source": [
    "## Define your own Mass-Balance Model"
   ]
  },
  {
   "cell_type": "markdown",
   "id": "e9dc43bf-b7a9-4ba3-a736-84c62df70688",
   "metadata": {},
   "source": [
    "Here is an example of how you can provide your own Mass-Balance Model to OGGM.\n",
    "\n",
    "This is done using Object-Oriented Programming, which means our newly created class `RandomLinearMassBalance` can build upon the existing OGGM class `MassBalanceModel`. By doing so we can make sure that our new Mass-Balance Model has the principle structure that OGGM expects a Mass-Balance Model to look like.\n",
    "\n",
    "Now we can define the behaviour of our Mass-Balance Model as we wish. At a minimum, we need to define `get_annual_mb()`, which should return the mass-balance value for given heights and at a given year.\n",
    "\n",
    "So let's have a look at what the code could look like:"
   ]
  },
  {
   "cell_type": "code",
   "execution_count": null,
   "id": "abc4fe7f-9988-4a06-8749-033b5f583bd4",
   "metadata": {
    "tags": []
   },
   "outputs": [],
   "source": [
    "# here we import the base class for all MassBalanceModels inside of OGGM\n",
    "from oggm.core.massbalance import MassBalanceModel\n",
    "\n",
    "# now we define that our new class RandomLinearMassBalance \n",
    "# should build upon OGGMs MassBalanceModel\n",
    "class RandomLinearMassBalance(MassBalanceModel):\n",
    "    \"\"\"Mass-balance as a linear function of altitude with random ELA.\n",
    "    \n",
    "    The reference ELA is taken as the 40% percentile altitude of the glacier.\n",
    "    It then varies randomly from year to year.\n",
    "    This class implements the MassBalanceModel interface so that the\n",
    "    dynamical model can use it. Even if you are not familiar with object\n",
    "    oriented programming, I hope that the example below is simple enough.\n",
    "    \"\"\"\n",
    "\n",
    "    # here we can define changeable parameters of our model, and also\n",
    "    # define default values for them\n",
    "    def __init__(self, gdir, ela_h, grad=3., sigma_ela=200., seed=None):\n",
    "        \"\"\" Initialize.\n",
    "        Parameters\n",
    "        ----------\n",
    "        gdir : oggm.GlacierDirectory\n",
    "            the working glacier directory\n",
    "        ela_h : float\n",
    "            the average ELA\n",
    "        grad: float\n",
    "            Mass-balance gradient (unit: [mm w.e. yr-1 m-1])\n",
    "        sigma_ela: float\n",
    "            The standard deviation of the ELA (unit: [m])\n",
    "        seed : int, optional\n",
    "            Random seed used to initialize the pseudo-random number generator.\n",
    "        Attributes\n",
    "        ----------\n",
    "        temp_bias : float, default 0\n",
    "            A \"temperature bias\" doesn't makes much sense in the linear MB\n",
    "            context, but we implemented a simple empirical rule:\n",
    "            + 1K -> ELA + 150 m\n",
    "        \"\"\"\n",
    "        super(RandomLinearMassBalance, self).__init__()\n",
    "        self.valid_bounds = [-1e4, 2e4]  # in m\n",
    "        self.grad = grad\n",
    "        self.orig_ela_h = ela_h\n",
    "        self.sigma_ela = sigma_ela\n",
    "        self.hemisphere = 'nh'\n",
    "        self.rng = np.random.RandomState(seed)\n",
    "        self.ela_h_per_year = dict()  # empty dictionary\n",
    "\n",
    "    # this is a unique attribute of our MassBalance model we are currently\n",
    "    # defining\n",
    "    def get_random_ela_h(self, year):\n",
    "        \"\"\"This generates a random ELA for the requested year.\n",
    "        Since we do not know which years are going to be asked for we generate\n",
    "        them on the go.\n",
    "        \"\"\"\n",
    "\n",
    "        year = int(year)\n",
    "        if year in self.ela_h_per_year:\n",
    "            # Nothing to be done\n",
    "            return self.ela_h_per_year[year]\n",
    "\n",
    "        # Else we generate it for this year\n",
    "        ela_h = self.orig_ela_h + self.rng.randn() * self.sigma_ela\n",
    "        self.ela_h_per_year[year] = ela_h\n",
    "        return ela_h\n",
    "\n",
    "    # here we redefine an attribute all MassBalance model must provide,\n",
    "    # as this is used for the communication during a dynamic run\n",
    "    def get_annual_mb(self, heights, year=None, fl_id=None, fls=None):\n",
    "\n",
    "        # Compute the mass-balance gradient\n",
    "        ela_h = self.get_random_ela_h(year)\n",
    "        mb = (np.asarray(heights) - ela_h) * self.grad\n",
    "\n",
    "        # Convert to units of [m s-1] (meters of ice per second)\n",
    "        return mb / SEC_IN_YEAR / cfg.PARAMS['ice_density']"
   ]
  },
  {
   "cell_type": "markdown",
   "id": "3d36eed2-9623-48c7-9a83-9de098b98444",
   "metadata": {},
   "source": [
    "Now that we have defined our MassBalanceModel class we can define a instance of it:"
   ]
  },
  {
   "cell_type": "code",
   "execution_count": null,
   "id": "8673f714-dfe0-491f-bcff-159510b371e3",
   "metadata": {
    "tags": []
   },
   "outputs": [],
   "source": [
    "mb_model = RandomLinearMassBalance(gdir, 3000)"
   ]
  },
  {
   "cell_type": "markdown",
   "id": "eb3fc28c-84bc-4897-8fab-76bb9065af4b",
   "metadata": {},
   "source": [
    "And explore some properties of our new Mass-Balance model:"
   ]
  },
  {
   "cell_type": "code",
   "execution_count": null,
   "id": "cbf5ed10-bb45-4053-b84b-f9fe75995cbd",
   "metadata": {
    "tags": []
   },
   "outputs": [],
   "source": [
    "mb_model.grad"
   ]
  },
  {
   "cell_type": "code",
   "execution_count": null,
   "id": "0b6bea77-c122-476a-9991-0fc946c04ebd",
   "metadata": {
    "tags": []
   },
   "outputs": [],
   "source": [
    "mb_model.sigma_ela"
   ]
  },
  {
   "cell_type": "markdown",
   "id": "3d4ca3bf-d570-4b41-bca9-a2dc47500185",
   "metadata": {},
   "source": [
    "Where are this values defined? Can you define a Mass Balance model with different values?"
   ]
  },
  {
   "cell_type": "markdown",
   "id": "2f91b64c-5d3a-4ade-ab16-67b52cf25fa0",
   "metadata": {},
   "source": [
    "<div class=\"alert alert-success\">\n",
    "<details><summary><i>Click for the answer</i></summary>\n",
    "<code>mb_model = RandomLinearMassBalance(gdir, grad=4, sigma_ela=150)\n",
    "</code>\n",
    "</div>"
   ]
  },
  {
   "cell_type": "markdown",
   "id": "ca67dca6-ea9f-4266-bdeb-d417e1b129b9",
   "metadata": {},
   "source": [
    "We also can ask for the Mass Balance profile for a specific year:"
   ]
  },
  {
   "cell_type": "code",
   "execution_count": null,
   "id": "79613072-f9ed-446b-9fb5-0a6e1e70c4b4",
   "metadata": {
    "tags": []
   },
   "outputs": [],
   "source": [
    "# first define the height range you are interested in\n",
    "heights = np.arange(2000, 3500, 10)\n",
    "\n",
    "# get the Mass Balance values for this heights for a specific year and plot them\n",
    "mb_2000 = mb_model.get_annual_mb(heights, year=2000)\n",
    "# OGGM internally works with SI units which are meters of ice per second,\n",
    "# for interpretation we need to convert them into kg per year\n",
    "mb_2000 = mb_2000 * SEC_IN_YEAR * cfg.PARAMS['ice_density']\n",
    "\n",
    "# and finally we can plot it\n",
    "plt.plot(mb_2000, heights)\n",
    "plt.ylabel('Altitude (m)')\n",
    "plt.xlabel('Mass Balance (kg yr-1)');"
   ]
  },
  {
   "cell_type": "code",
   "execution_count": null,
   "id": "0b739441-e619-42aa-87c9-40df9a4a03c2",
   "metadata": {
    "tags": []
   },
   "outputs": [],
   "source": [
    "# or also can access other usful information which is available through the base class MassBalanceModel\n",
    "mb_model.get_ela(year=2000)"
   ]
  },
  {
   "cell_type": "markdown",
   "id": "9fa661b1-9946-4fd5-9e89-e3bc89bcdd42",
   "metadata": {},
   "source": [
    "## Dynamic model run with user provided Mass Balance Model"
   ]
  },
  {
   "cell_type": "markdown",
   "id": "987177e5-5524-422c-974a-8e7a6d4215c4",
   "metadata": {},
   "source": [
    "Now we connect our defined mass balance model with the geometry through the dynamic model.\n",
    "\n",
    "The connection of individual parts is straightforward because we agreed on a way of communication by building our Mass-Balance Model upon the base class of OGGM."
   ]
  },
  {
   "cell_type": "code",
   "execution_count": null,
   "id": "7fd9734b-f3d6-4b47-8730-328a2cbdc857",
   "metadata": {
    "tags": []
   },
   "outputs": [],
   "source": [
    "# First we open our glacier geometry, which is already converted\n",
    "# into the flowline representation \n",
    "fls = gdir.read_pickle('model_flowlines')\n",
    "\n",
    "# We also need to define the year of our geomtery\n",
    "y0 = gdir.rgi_date\n",
    "\n",
    "# Then we import the dynamic solver we want to use\n",
    "from oggm.core.flowline import SemiImplicitModel\n",
    "\n",
    "# And bring the individual parts together\n",
    "model = SemiImplicitModel(flowlines=fls, mb_model=mb_model, y0=y0)\n",
    "\n",
    "# This model we now can use to conduct a dynamic glacier model run,\n",
    "# here for example until 2100\n",
    "ds = model.run_until_and_store(2300)\n",
    "\n",
    "# And finally we can plot the results\n",
    "f, (ax1, ax2, ax3) = plt.subplots(3,1,figsize=(10, 9))\n",
    "ds.length_m.plot(ax=ax1)\n",
    "ds.area_m2.plot(ax=ax2)\n",
    "ds.volume_m3.plot(ax=ax3);"
   ]
  },
  {
   "cell_type": "code",
   "execution_count": null,
   "id": "dedf173c-94b9-438c-ace5-e4bb5a1aa33c",
   "metadata": {},
   "outputs": [],
   "source": []
  }
 ],
 "metadata": {
  "kernelspec": {
   "display_name": "Python 3 (ipykernel)",
   "language": "python",
   "name": "python3"
  },
  "language_info": {
   "codemirror_mode": {
    "name": "ipython",
    "version": 3
   },
   "file_extension": ".py",
   "mimetype": "text/x-python",
   "name": "python",
   "nbconvert_exporter": "python",
   "pygments_lexer": "ipython3",
   "version": "3.10.9"
  }
 },
 "nbformat": 4,
 "nbformat_minor": 5
}
